{
 "cells": [
  {
   "attachments": {},
   "cell_type": "markdown",
   "metadata": {},
   "source": [
    "## DEVLAND + REACT"
   ]
  },
  {
   "attachments": {},
   "cell_type": "markdown",
   "metadata": {},
   "source": [
    "Lists files that are present in each folder as well as the latest files"
   ]
  },
  {
   "cell_type": "code",
   "execution_count": 1,
   "metadata": {},
   "outputs": [],
   "source": [
    "import os\n",
    "import glob\n",
    "import pandas as pd\n",
    "import subprocess\n",
    "import logging\n",
    "import datetime\n",
    "from openpyxl.styles import PatternFill"
   ]
  },
  {
   "cell_type": "code",
   "execution_count": 2,
   "metadata": {},
   "outputs": [],
   "source": [
    "directories = [\n",
    "    (r'R:\\RawData\\Elite Star\\\\Devland\\RAW FILES RECEIVED', r'C:\\Users\\tsello01\\\\Documents\\\\Data\\\\Devland Latest.xlsx'),\n",
    "    (r'R:\\RawData\\Elite Star\\React Stores\\Client Download Folders', r'C:\\Users\\\\tsello01\\\\Documents\\\\Data\\React Latest.xlsx')\n",
    "]"
   ]
  },
  {
   "cell_type": "code",
   "execution_count": 3,
   "metadata": {},
   "outputs": [],
   "source": [
    "def get_file_list(directory):\n",
    "    \"\"\"Retrieve a list of all files in the directory and its subdirectories.\"\"\"\n",
    "    return glob.glob(os.path.join(directory, '**'), recursive=True)"
   ]
  },
  {
   "cell_type": "code",
   "execution_count": 4,
   "metadata": {},
   "outputs": [],
   "source": [
    "def get_most_recent_file(directory, files):\n",
    "    \"\"\"Retrieve the most recent file in the directory.\"\"\"\n",
    "    return max(files, key=os.path.getmtime)"
   ]
  },
  {
   "cell_type": "code",
   "execution_count": 5,
   "metadata": {},
   "outputs": [],
   "source": [
    "def delete_files(files):\n",
    "    \"\"\"Delete the specified files.\"\"\"\n",
    "    for file in files:\n",
    "        try:\n",
    "            os.remove(file)\n",
    "        except Exception as e:\n",
    "            logging.error(f\"Error deleting file {file}: {e}\")"
   ]
  },
  {
   "cell_type": "code",
   "execution_count": 6,
   "metadata": {},
   "outputs": [],
   "source": [
    "def list_files(directory):\n",
    "  file_paths = []\n",
    "  previous_date = None\n",
    "  previous_folder = None\n",
    "\n",
    "  for root, _, filenames in os.walk(directory):\n",
    "      for filename in filenames:\n",
    "          relative_path = os.path.relpath(os.path.join(root, filename), directory)\n",
    "          folder_name = os.path.dirname(relative_path)\n",
    "\n",
    "          # Check if the filename matches the expected format\n",
    "          if '_' in filename:\n",
    "              date_str = filename.split('_')[-1].split('.')[0]\n",
    "          elif '-' in filename:\n",
    "              date_str = os.path.splitext(filename)[0].split('-')[-1]\n",
    "          else:\n",
    "              continue\n",
    "\n",
    "          try:\n",
    "              file_date = datetime.datetime.strptime(date_str, '%Y-%m-%d').date()\n",
    "          except ValueError:\n",
    "              continue\n",
    "\n",
    "          # Reset previous_date if a new folder is encountered\n",
    "          if folder_name != previous_folder:\n",
    "              previous_date = None\n",
    "              previous_folder = folder_name\n",
    "\n",
    "          day_diff = (file_date - previous_date).days if previous_date else 0\n",
    "          week_diff = day_diff // 7\n",
    "          file_paths.append([relative_path, folder_name, week_diff])\n",
    "          previous_date = file_date\n",
    "\n",
    "  df = pd.DataFrame(file_paths, columns=['File Path', 'Folder', 'Week Difference'])\n",
    "\n",
    "  # Apply conditional formatting\n",
    "  df.style.apply(lambda x: ['background-color: yellow' if val > 1 else '' for val in x['Week Difference']], axis=0)\n",
    "\n",
    "  return df"
   ]
  },
  {
   "cell_type": "code",
   "execution_count": 7,
   "metadata": {},
   "outputs": [],
   "source": [
    "def list_most_recent_files(directory):\n",
    "  recent_files = []\n",
    "\n",
    "  for root, dirs, filenames in os.walk(directory):\n",
    "      if filenames:\n",
    "          most_recent_file = max(filenames, key=lambda x: os.path.getmtime(os.path.join(root, x)))\n",
    "          relative_path = os.path.relpath(os.path.join(root, most_recent_file), directory)\n",
    "          folder_name = os.path.basename(root)\n",
    "          recent_files.append([folder_name, relative_path])\n",
    "\n",
    "  df = pd.DataFrame(recent_files, columns=['Folder Name', 'Most Recent File'])\n",
    "\n",
    "  return df\n"
   ]
  },
  {
   "cell_type": "code",
   "execution_count": 8,
   "metadata": {},
   "outputs": [],
   "source": [
    "try:\n",
    "    for directory, output_file in directories:\n",
    "        with pd.ExcelWriter(output_file, engine='xlsxwriter') as writer:\n",
    "            list_files(directory).to_excel(writer, sheet_name='All Files', index=False)\n",
    "            list_most_recent_files(directory).to_excel(writer, sheet_name='Most Recent Files', index=False)\n",
    "\n",
    "    if os.name == 'nt':  # Windows\n",
    "        for _, output_file in directories:\n",
    "            os.startfile(output_file)\n",
    "    else: \n",
    "        for _, output_file in directories:\n",
    "            subprocess.call(['open', output_file])\n",
    "\n",
    "except PermissionError:\n",
    "    print(\"Error: The file(s) is already open. Please close it and try again.\")"
   ]
  }
 ],
 "metadata": {
  "kernelspec": {
   "display_name": "base",
   "language": "python",
   "name": "python3"
  },
  "language_info": {
   "codemirror_mode": {
    "name": "ipython",
    "version": 3
   },
   "file_extension": ".py",
   "mimetype": "text/x-python",
   "name": "python",
   "nbconvert_exporter": "python",
   "pygments_lexer": "ipython3",
   "version": "3.11.3"
  },
  "orig_nbformat": 4
 },
 "nbformat": 4,
 "nbformat_minor": 2
}
