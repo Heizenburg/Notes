{
 "cells": [
  {
   "cell_type": "markdown",
   "metadata": {},
   "source": [
    "## Woermann Brock \n",
    "\n",
    "Serves as a normalization script before the execution of the preload."
   ]
  },
  {
   "cell_type": "code",
   "execution_count": 1,
   "metadata": {},
   "outputs": [],
   "source": [
    "import pandas as pd\n",
    "import re\n",
    "import datetime\n",
    "import os\n",
    "\n",
    "from datetime import datetime"
   ]
  },
  {
   "cell_type": "code",
   "execution_count": 2,
   "metadata": {},
   "outputs": [],
   "source": [
    "to_upload_folder_path = r'R:\\RawData\\Elite Star\\\\Woermann Brock\\ToUpload'\n",
    "done_folder_path = r'R:\\RawData\\Elite Star\\\\Woermann Brock\\\\Done'"
   ]
  },
  {
   "cell_type": "code",
   "execution_count": 3,
   "metadata": {},
   "outputs": [],
   "source": [
    "# Returns the latest file in the specified path based on the date modified\n",
    "def get_latest_file(path):\n",
    "  files = os.listdir(path)\n",
    "  latest_file = max(files, key=lambda x: os.path.getmtime(os.path.join(path, x)))\n",
    "  return latest_file"
   ]
  },
  {
   "cell_type": "code",
   "execution_count": 4,
   "metadata": {},
   "outputs": [
    {
     "name": "stdout",
     "output_type": "stream",
     "text": [
      "                File Name       Date      Last File Processed\n",
      "0  ESTexport-25022025.txt 2025-02-25  ESTexport-11022025 .txt\n",
      "1  ESTexport-13022025.txt 2025-02-13  ESTexport-11022025 .txt\n",
      "2  ESTexport-12022025.txt 2025-02-12  ESTexport-11022025 .txt\n",
      "3  ESTexport-11022025.txt 2025-02-11  ESTexport-11022025 .txt\n",
      "4  ESTexport-10022025.txt 2025-02-10  ESTexport-11022025 .txt\n",
      "5  ESTexport-09022025.txt 2025-02-09  ESTexport-11022025 .txt\n",
      "6  ESTexport-08022025.txt 2025-02-08  ESTexport-11022025 .txt\n",
      "7  ESTexport-07022025.txt 2025-02-07  ESTexport-11022025 .txt\n",
      "8  ESTexport-06022025.txt 2025-02-06  ESTexport-11022025 .txt\n"
     ]
    }
   ],
   "source": [
    "def extract_date_from_filename(filename):\n",
    "    match = re.search(r'(\\d{2})(\\d{2})(\\d{4})', filename)\n",
    "    if match:\n",
    "        date_str = match.group(1) + match.group(2) + match.group(3)\n",
    "        return datetime.strptime(date_str, '%d%m%Y')\n",
    "    else:\n",
    "        return datetime.min # If the date is not found, set it to a default value\n",
    "\n",
    "file_list = os.listdir(to_upload_folder_path)\n",
    "file_list.sort(key=lambda x: extract_date_from_filename(x), reverse=True)\n",
    "\n",
    "last_file_processed = get_latest_file(done_folder_path)\n",
    "\n",
    "sorted_files = [{'File Name': filename, 'Date': extract_date_from_filename(filename), 'Last File Processed': last_file_processed} for filename in file_list]\n",
    "\n",
    "df = pd.DataFrame(sorted_files)\n",
    "print(df)"
   ]
  },
  {
   "cell_type": "code",
   "execution_count": 5,
   "metadata": {},
   "outputs": [
    {
     "name": "stdout",
     "output_type": "stream",
     "text": [
      "         Initial Filename           Final Filename\n",
      "0  ESTexport-06022025.txt  ESTexport-06022025 .txt\n",
      "1  ESTexport-07022025.txt  ESTexport-07022025 .txt\n",
      "2  ESTexport-08022025.txt  ESTexport-08022025 .txt\n",
      "3  ESTexport-09022025.txt  ESTexport-09022025 .txt\n",
      "4  ESTexport-10022025.txt  ESTexport-10022025 .txt\n",
      "5  ESTexport-11022025.txt  ESTexport-11022025 .txt\n",
      "6  ESTexport-12022025.txt  ESTexport-12022025 .txt\n",
      "7  ESTexport-13022025.txt  ESTexport-13022025 .txt\n",
      "8  ESTexport-25022025.txt  ESTexport-25022025 .txt\n"
     ]
    }
   ],
   "source": [
    "def normalize_filename(filename):\n",
    "    base, ext = os.path.splitext(filename)\n",
    "    normalized_filename = f\"{base.strip()} {ext.strip()}\"\n",
    "    return normalized_filename\n",
    "\n",
    "file_data = []\n",
    "for filename in os.listdir(to_upload_folder_path):\n",
    "    if os.path.isfile(os.path.join(to_upload_folder_path, filename)):\n",
    "        normalized_filename = normalize_filename(filename)\n",
    "        if normalized_filename != filename:  \n",
    "            file_data.append([filename, normalized_filename])\n",
    "            destination_path = os.path.join(to_upload_folder_path, normalized_filename)\n",
    "            if os.path.exists(destination_path):\n",
    "                os.remove(destination_path)  # Remove the existing file\n",
    "            os.rename(os.path.join(to_upload_folder_path, filename), destination_path)\n",
    "\n",
    "df = pd.DataFrame(file_data, columns=['Initial Filename', 'Final Filename'])\n",
    "print(df)"
   ]
  }
 ],
 "metadata": {
  "kernelspec": {
   "display_name": "Python 3",
   "language": "python",
   "name": "python3"
  },
  "language_info": {
   "codemirror_mode": {
    "name": "ipython",
    "version": 3
   },
   "file_extension": ".py",
   "mimetype": "text/x-python",
   "name": "python",
   "nbconvert_exporter": "python",
   "pygments_lexer": "ipython3",
   "version": "3.11.3"
  }
 },
 "nbformat": 4,
 "nbformat_minor": 2
}
