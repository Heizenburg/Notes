{
 "cells": [
  {
   "cell_type": "code",
   "execution_count": null,
   "metadata": {},
   "outputs": [],
   "source": [
    "import re\n",
    "\n",
    "def get_filenames(search_results):\n",
    "    filenames = []\n",
    "    for line in search_results:\n",
    "        if \"Q:\" in line:\n",
    "            filename_match = re.search(\"(\\w+)_\", line.split(\"Q:\")[-1])\n",
    "            if filename_match:\n",
    "                filenames.append(filename_match.group())\n",
    "    return filenames\n",
    "\n",
    "# Example usage\n",
    "with open(\"search_results.txt\", encoding=\"utf-8\") as f:\n",
    "    search_results = f.readlines()\n",
    "filenames = get_filenames(search_results)\n",
    "print(filenames)"
   ]
  }
 ],
 "metadata": {
  "kernelspec": {
   "display_name": "base",
   "language": "python",
   "name": "python3"
  },
  "language_info": {
   "name": "python",
   "version": "3.10.9"
  }
 },
 "nbformat": 4,
 "nbformat_minor": 2
}
