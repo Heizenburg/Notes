{
 "cells": [
  {
   "cell_type": "code",
   "execution_count": 123,
   "metadata": {},
   "outputs": [],
   "source": [
    "import pandas as pd\n",
    "import numpy as np\n",
    "import os\n",
    "import matplotlib.pyplot as plt"
   ]
  },
  {
   "cell_type": "code",
   "execution_count": 124,
   "metadata": {},
   "outputs": [
    {
     "data": {
      "text/plain": [
       "'c:\\\\Users\\\\tsello01\\\\Documents\\\\Scripts\\\\notebooks'"
      ]
     },
     "execution_count": 124,
     "metadata": {},
     "output_type": "execute_result"
    }
   ],
   "source": [
    "pwd = os.getcwd(); pwd"
   ]
  },
  {
   "cell_type": "code",
   "execution_count": 125,
   "metadata": {},
   "outputs": [
    {
     "data": {
      "text/plain": [
       "'c:\\\\Users\\\\tsello01\\\\Documents\\\\Scripts\\\\data'"
      ]
     },
     "execution_count": 125,
     "metadata": {},
     "output_type": "execute_result"
    }
   ],
   "source": [
    "def replace_last_directory(path, new_directory):\n",
    "    return \"\\\\\".join(path.split(\"\\\\\")[:-1] + [new_directory])\n",
    "\n",
    "pwd = os.getcwd()\n",
    "new_pwd = replace_last_directory(pwd, \"data\"); new_pwd"
   ]
  },
  {
   "cell_type": "code",
   "execution_count": 126,
   "metadata": {},
   "outputs": [],
   "source": [
    "def csv_data(directory):\n",
    "    # Get all CSV files in the specified directory\n",
    "    csv_files = [os.path.join(directory, file) for file in os.listdir(directory) if file.endswith('.txt')]\n",
    "\n",
    "    # Create variables to store the total Units and Value\n",
    "    total_units = 0\n",
    "    total_value = 0\n",
    "\n",
    "    # Loop through each CSV file and sum up the Units and Value columns\n",
    "    for file in csv_files:\n",
    "        # Read the CSV file into a DataFrame\n",
    "        data = pd.read_csv(file, delimiter='|')\n",
    "        \n",
    "        # Sum up the Units and Value columns\n",
    "        total_units += data['Quantity'].sum()\n",
    "        total_value += data['ValueExcl'].sum()\n",
    "\n",
    "    # Create a DataFrame to store the aggregated data\n",
    "    aggregated_data = pd.DataFrame({'Units': [total_units], 'Value': [total_value]})\n",
    "\n",
    "    # Return the aggregated data\n",
    "    return aggregated_data\n"
   ]
  },
  {
   "cell_type": "code",
   "execution_count": 127,
   "metadata": {},
   "outputs": [
    {
     "data": {
      "text/html": [
       "<div>\n",
       "<style scoped>\n",
       "    .dataframe tbody tr th:only-of-type {\n",
       "        vertical-align: middle;\n",
       "    }\n",
       "\n",
       "    .dataframe tbody tr th {\n",
       "        vertical-align: top;\n",
       "    }\n",
       "\n",
       "    .dataframe thead th {\n",
       "        text-align: right;\n",
       "    }\n",
       "</style>\n",
       "<table border=\"1\" class=\"dataframe\">\n",
       "  <thead>\n",
       "    <tr style=\"text-align: right;\">\n",
       "      <th></th>\n",
       "      <th>Units</th>\n",
       "      <th>Value</th>\n",
       "    </tr>\n",
       "  </thead>\n",
       "  <tbody>\n",
       "    <tr>\n",
       "      <th>0</th>\n",
       "      <td>993247.97</td>\n",
       "      <td>59676006.1</td>\n",
       "    </tr>\n",
       "  </tbody>\n",
       "</table>\n",
       "</div>"
      ],
      "text/plain": [
       "       Units       Value\n",
       "0  993247.97  59676006.1"
      ]
     },
     "execution_count": 127,
     "metadata": {},
     "output_type": "execute_result"
    }
   ],
   "source": [
    "aggregate = csv_data(\"R:\\\\RawData\\\\KitKat\\\\ToUpload\")\n",
    "aggregate"
   ]
  },
  {
   "cell_type": "code",
   "execution_count": 128,
   "metadata": {},
   "outputs": [],
   "source": [
    "aggregate.to_excel(\"C:\\\\Users\\\\tsello01\\\\Documents\\\\Data\\\\u_v.xlsx\", index=False)"
   ]
  },
  {
   "cell_type": "code",
   "execution_count": 129,
   "metadata": {},
   "outputs": [
    {
     "data": {
      "text/plain": [
       "<BarContainer object of 2 artists>"
      ]
     },
     "execution_count": 129,
     "metadata": {},
     "output_type": "execute_result"
    },
    {
     "data": {
      "image/png": "[encoded data removed]",
      "text/plain": [
       "<Figure size 640x480 with 1 Axes>"
      ]
     },
     "metadata": {},
     "output_type": "display_data"
    }
   ],
   "source": [
    "plt.title('Total Units and Value across all text files')\n",
    "plt.bar(['Units', 'Value'], [aggregate['Units'][0], aggregate['Value'][0]])"
   ]
  }
 ],
 "metadata": {
  "kernelspec": {
   "display_name": "base",
   "language": "python",
   "name": "python3"
  },
  "language_info": {
   "codemirror_mode": {
    "name": "ipython",
    "version": 3
   },
   "file_extension": ".py",
   "mimetype": "text/x-python",
   "name": "python",
   "nbconvert_exporter": "python",
   "pygments_lexer": "ipython3",
   "version": "3.10.9"
  },
  "orig_nbformat": 4
 },
 "nbformat": 4,
 "nbformat_minor": 2
}
