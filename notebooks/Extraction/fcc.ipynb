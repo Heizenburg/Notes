{
 "cells": [
  {
   "cell_type": "code",
   "execution_count": null,
   "metadata": {},
   "outputs": [],
   "source": [
    "import json\n",
    "\n",
    "location = r'C:\\Users\\tsello01\\\\Documents\\\\Books\\FCC\\tutorial.json'\n",
    "\n",
    "with open(location) as f:\n",
    "    data = json.load(f)\n",
    "\n",
    "extracted_hints = []\n",
    "for level in data['levels']:\n",
    "    for step in level['steps']:\n",
    "        for hint in step['hints']:\n",
    "            if hint.startswith('try entering'):\n",
    "                extracted_hints.append(hint)\n",
    "\n",
    "for level in data['levels']:\n",
    "    for step in level['steps']:\n",
    "        for hint in step['hints']:\n",
    "            extracted_hints.append(hint)\n",
    "\n",
    "# Print all extracted hints\n",
    "for hint in extracted_hints:\n",
    "    print(hint)"
   ]
  }
 ],
 "metadata": {
  "kernelspec": {
   "display_name": "base",
   "language": "python",
   "name": "python3"
  },
  "language_info": {
   "codemirror_mode": {
    "name": "ipython",
    "version": 3
   },
   "file_extension": ".py",
   "mimetype": "text/x-python",
   "name": "python",
   "nbconvert_exporter": "python",
   "pygments_lexer": "ipython3",
   "version": "3.10.9"
  }
 },
 "nbformat": 4,
 "nbformat_minor": 2
}
