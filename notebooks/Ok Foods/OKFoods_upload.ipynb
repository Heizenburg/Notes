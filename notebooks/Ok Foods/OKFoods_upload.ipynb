{
 "cells": [
  {
   "cell_type": "code",
   "execution_count": 2,
   "metadata": {},
   "outputs": [],
   "source": [
    "import pysftp\n",
    "import os\n",
    "from getpass import getpass\n",
    "from dotenv import load_dotenv"
   ]
  },
  {
   "cell_type": "code",
   "execution_count": 3,
   "metadata": {},
   "outputs": [],
   "source": [
    "class SFTPUploader:\n",
    "  def __init__(self, host, username, password=None, port=22):\n",
    "    self.host = host\n",
    "    self.username = username\n",
    "    self.password = password\n",
    "    self.port = port\n",
    "\n",
    "  def get_password(self):\n",
    "    if self.password is None:\n",
    "      # Check if password is available in environment file\n",
    "      load_dotenv('.env')\n",
    "      password = os.getenv('FTP_PASSWORD')\n",
    "      if password:\n",
    "        self.password = password\n",
    "      else:\n",
    "        self.password = getpass('Enter SFTP password: ')\n",
    "\n",
    "  def upload_data(self, local_folder, remote_folder, client_name):\n",
    "      self.get_password()\n",
    "      cnopts = pysftp.CnOpts()\n",
    "      cnopts.hostkeys = None  # Disable host key checking\n",
    "      with pysftp.Connection(self.host, username=self.username, password=self.password, port=self.port, cnopts=cnopts) as sftp:\n",
    "        self._upload_files(sftp, local_folder, remote_folder, client_name)\n",
    "\n",
    "  def _upload_files(self, sftp, local_folder, remote_folder, client_name):\n",
    "    sftp.cwd(remote_folder)\n",
    "    files = sftp.listdir()\n",
    "    for file in files:\n",
    "      file_path = remote_folder + '/' + file\n",
    "      if sftp.isfile(file_path):\n",
    "          sftp.remove(file_path)\n",
    "    for file in os.listdir(local_folder):\n",
    "      local_file_path = os.path.join(local_folder, file)\n",
    "      remote_file_path = remote_folder + '/' + file\n",
    "      if client_name.lower() in file.lower():\n",
    "          remote_file_path = os.path.join(remote_folder, file) \n",
    "          sftp.put(local_file_path, remote_file_path)\n",
    "          print(f\"Uploaded {file} to {remote_folder}\")\n",
    "    directories = [file for file in os.listdir(local_folder) if os.path.isdir(os.path.join(local_folder, file))]\n",
    "    for directory in directories:\n",
    "      local_directory_path = os.path.join(local_folder, directory)\n",
    "      remote_directory_path = remote_folder + '/' + directory\n",
    "      sftp.mkdir(remote_directory_path)\n",
    "      self._upload_files(sftp, local_directory_path, remote_directory_path, client_name)\n",
    "\n"
   ]
  },
  {
   "cell_type": "code",
   "execution_count": 4,
   "metadata": {},
   "outputs": [
    {
     "data": {
      "text/plain": [
       "True"
      ]
     },
     "execution_count": 4,
     "metadata": {},
     "output_type": "execute_result"
    }
   ],
   "source": [
    "load_dotenv()  # Load environment variables from .env file"
   ]
  },
  {
   "cell_type": "code",
   "execution_count": null,
   "metadata": {},
   "outputs": [
    {
     "name": "stdout",
     "output_type": "stream",
     "text": [
      "\\euaqurs6ftp\\\\Down\\OKFOODS, Aquelle\n"
     ]
    },
    {
     "ename": "OSError",
     "evalue": "/euaqurs6ftp/Down/OKFOODS/euaqurs6ftp/Down/OKFOODS/OKFoods Weekly Store Level_Aquelle_20241124-20241208.csv",
     "output_type": "error",
     "traceback": [
      "\u001b[1;31m---------------------------------------------------------------------------\u001b[0m",
      "\u001b[1;31mOSError\u001b[0m                                   Traceback (most recent call last)",
      "Cell \u001b[1;32mIn[9], line 16\u001b[0m\n\u001b[0;32m     14\u001b[0m \u001b[38;5;28;01mfor\u001b[39;00m source_folder, remote_folder, client_name \u001b[38;5;129;01min\u001b[39;00m upload_list:\n\u001b[0;32m     15\u001b[0m   \u001b[38;5;28mprint\u001b[39m(\u001b[38;5;124mf\u001b[39m\u001b[38;5;124m\"\u001b[39m\u001b[38;5;132;01m{\u001b[39;00mremote_folder\u001b[38;5;132;01m}\u001b[39;00m\u001b[38;5;124m, \u001b[39m\u001b[38;5;132;01m{\u001b[39;00mclient_name\u001b[38;5;132;01m}\u001b[39;00m\u001b[38;5;124m\"\u001b[39m)\n\u001b[1;32m---> 16\u001b[0m   \u001b[43msftp_uploader\u001b[49m\u001b[38;5;241;43m.\u001b[39;49m\u001b[43mupload_data\u001b[49m\u001b[43m(\u001b[49m\u001b[43msource_folder\u001b[49m\u001b[43m,\u001b[49m\u001b[43m \u001b[49m\u001b[43mremote_folder\u001b[49m\u001b[43m,\u001b[49m\u001b[43m \u001b[49m\u001b[43mclient_name\u001b[49m\u001b[43m)\u001b[49m\n",
      "Cell \u001b[1;32mIn[3], line 23\u001b[0m, in \u001b[0;36mSFTPUploader.upload_data\u001b[1;34m(self, local_folder, remote_folder, client_name)\u001b[0m\n\u001b[0;32m     21\u001b[0m cnopts\u001b[38;5;241m.\u001b[39mhostkeys \u001b[38;5;241m=\u001b[39m \u001b[38;5;28;01mNone\u001b[39;00m  \u001b[38;5;66;03m# Disable host key checking\u001b[39;00m\n\u001b[0;32m     22\u001b[0m \u001b[38;5;28;01mwith\u001b[39;00m pysftp\u001b[38;5;241m.\u001b[39mConnection(\u001b[38;5;28mself\u001b[39m\u001b[38;5;241m.\u001b[39mhost, username\u001b[38;5;241m=\u001b[39m\u001b[38;5;28mself\u001b[39m\u001b[38;5;241m.\u001b[39musername, password\u001b[38;5;241m=\u001b[39m\u001b[38;5;28mself\u001b[39m\u001b[38;5;241m.\u001b[39mpassword, port\u001b[38;5;241m=\u001b[39m\u001b[38;5;28mself\u001b[39m\u001b[38;5;241m.\u001b[39mport, cnopts\u001b[38;5;241m=\u001b[39mcnopts) \u001b[38;5;28;01mas\u001b[39;00m sftp:\n\u001b[1;32m---> 23\u001b[0m   \u001b[38;5;28;43mself\u001b[39;49m\u001b[38;5;241;43m.\u001b[39;49m\u001b[43m_upload_files\u001b[49m\u001b[43m(\u001b[49m\u001b[43msftp\u001b[49m\u001b[43m,\u001b[49m\u001b[43m \u001b[49m\u001b[43mlocal_folder\u001b[49m\u001b[43m,\u001b[49m\u001b[43m \u001b[49m\u001b[43mremote_folder\u001b[49m\u001b[43m,\u001b[49m\u001b[43m \u001b[49m\u001b[43mclient_name\u001b[49m\u001b[43m)\u001b[49m\n",
      "Cell \u001b[1;32mIn[3], line 37\u001b[0m, in \u001b[0;36mSFTPUploader._upload_files\u001b[1;34m(self, sftp, local_folder, remote_folder, client_name)\u001b[0m\n\u001b[0;32m     35\u001b[0m   \u001b[38;5;28;01mif\u001b[39;00m client_name\u001b[38;5;241m.\u001b[39mlower() \u001b[38;5;129;01min\u001b[39;00m file\u001b[38;5;241m.\u001b[39mlower():\n\u001b[0;32m     36\u001b[0m       remote_file_path \u001b[38;5;241m=\u001b[39m os\u001b[38;5;241m.\u001b[39mpath\u001b[38;5;241m.\u001b[39mjoin(remote_folder, file) \n\u001b[1;32m---> 37\u001b[0m       \u001b[43msftp\u001b[49m\u001b[38;5;241;43m.\u001b[39;49m\u001b[43mput\u001b[49m\u001b[43m(\u001b[49m\u001b[43mlocal_file_path\u001b[49m\u001b[43m,\u001b[49m\u001b[43m \u001b[49m\u001b[43mremote_file_path\u001b[49m\u001b[43m)\u001b[49m\n\u001b[0;32m     38\u001b[0m       \u001b[38;5;28mprint\u001b[39m(\u001b[38;5;124mf\u001b[39m\u001b[38;5;124m\"\u001b[39m\u001b[38;5;124mUploaded \u001b[39m\u001b[38;5;132;01m{\u001b[39;00mfile\u001b[38;5;132;01m}\u001b[39;00m\u001b[38;5;124m to \u001b[39m\u001b[38;5;132;01m{\u001b[39;00mremote_folder\u001b[38;5;132;01m}\u001b[39;00m\u001b[38;5;124m\"\u001b[39m)\n\u001b[0;32m     39\u001b[0m directories \u001b[38;5;241m=\u001b[39m [file \u001b[38;5;28;01mfor\u001b[39;00m file \u001b[38;5;129;01min\u001b[39;00m os\u001b[38;5;241m.\u001b[39mlistdir(local_folder) \u001b[38;5;28;01mif\u001b[39;00m os\u001b[38;5;241m.\u001b[39mpath\u001b[38;5;241m.\u001b[39misdir(os\u001b[38;5;241m.\u001b[39mpath\u001b[38;5;241m.\u001b[39mjoin(local_folder, file))]\n",
      "File \u001b[1;32mc:\\Users\\tsello01\\AppData\\Local\\Programs\\Python\\Python311\\Lib\\site-packages\\pysftp\\__init__.py:363\u001b[0m, in \u001b[0;36mConnection.put\u001b[1;34m(self, localpath, remotepath, callback, confirm, preserve_mtime)\u001b[0m\n\u001b[0;32m    360\u001b[0m     local_stat \u001b[38;5;241m=\u001b[39m os\u001b[38;5;241m.\u001b[39mstat(localpath)\n\u001b[0;32m    361\u001b[0m     times \u001b[38;5;241m=\u001b[39m (local_stat\u001b[38;5;241m.\u001b[39mst_atime, local_stat\u001b[38;5;241m.\u001b[39mst_mtime)\n\u001b[1;32m--> 363\u001b[0m sftpattrs \u001b[38;5;241m=\u001b[39m \u001b[38;5;28;43mself\u001b[39;49m\u001b[38;5;241;43m.\u001b[39;49m\u001b[43m_sftp\u001b[49m\u001b[38;5;241;43m.\u001b[39;49m\u001b[43mput\u001b[49m\u001b[43m(\u001b[49m\u001b[43mlocalpath\u001b[49m\u001b[43m,\u001b[49m\u001b[43m \u001b[49m\u001b[43mremotepath\u001b[49m\u001b[43m,\u001b[49m\u001b[43m \u001b[49m\u001b[43mcallback\u001b[49m\u001b[38;5;241;43m=\u001b[39;49m\u001b[43mcallback\u001b[49m\u001b[43m,\u001b[49m\n\u001b[0;32m    364\u001b[0m \u001b[43m                           \u001b[49m\u001b[43mconfirm\u001b[49m\u001b[38;5;241;43m=\u001b[39;49m\u001b[43mconfirm\u001b[49m\u001b[43m)\u001b[49m\n\u001b[0;32m    365\u001b[0m \u001b[38;5;28;01mif\u001b[39;00m preserve_mtime:\n\u001b[0;32m    366\u001b[0m     \u001b[38;5;28mself\u001b[39m\u001b[38;5;241m.\u001b[39m_sftp\u001b[38;5;241m.\u001b[39mutime(remotepath, times)\n",
      "File \u001b[1;32mc:\\Users\\tsello01\\AppData\\Local\\Programs\\Python\\Python311\\Lib\\site-packages\\paramiko\\sftp_client.py:759\u001b[0m, in \u001b[0;36mSFTPClient.put\u001b[1;34m(self, localpath, remotepath, callback, confirm)\u001b[0m\n\u001b[0;32m    757\u001b[0m file_size \u001b[38;5;241m=\u001b[39m os\u001b[38;5;241m.\u001b[39mstat(localpath)\u001b[38;5;241m.\u001b[39mst_size\n\u001b[0;32m    758\u001b[0m \u001b[38;5;28;01mwith\u001b[39;00m \u001b[38;5;28mopen\u001b[39m(localpath, \u001b[38;5;124m\"\u001b[39m\u001b[38;5;124mrb\u001b[39m\u001b[38;5;124m\"\u001b[39m) \u001b[38;5;28;01mas\u001b[39;00m fl:\n\u001b[1;32m--> 759\u001b[0m     \u001b[38;5;28;01mreturn\u001b[39;00m \u001b[38;5;28;43mself\u001b[39;49m\u001b[38;5;241;43m.\u001b[39;49m\u001b[43mputfo\u001b[49m\u001b[43m(\u001b[49m\u001b[43mfl\u001b[49m\u001b[43m,\u001b[49m\u001b[43m \u001b[49m\u001b[43mremotepath\u001b[49m\u001b[43m,\u001b[49m\u001b[43m \u001b[49m\u001b[43mfile_size\u001b[49m\u001b[43m,\u001b[49m\u001b[43m \u001b[49m\u001b[43mcallback\u001b[49m\u001b[43m,\u001b[49m\u001b[43m \u001b[49m\u001b[43mconfirm\u001b[49m\u001b[43m)\u001b[49m\n",
      "File \u001b[1;32mc:\\Users\\tsello01\\AppData\\Local\\Programs\\Python\\Python311\\Lib\\site-packages\\paramiko\\sftp_client.py:716\u001b[0m, in \u001b[0;36mSFTPClient.putfo\u001b[1;34m(self, fl, remotepath, file_size, callback, confirm)\u001b[0m\n\u001b[0;32m    714\u001b[0m \u001b[38;5;28;01mwith\u001b[39;00m \u001b[38;5;28mself\u001b[39m\u001b[38;5;241m.\u001b[39mfile(remotepath, \u001b[38;5;124m\"\u001b[39m\u001b[38;5;124mwb\u001b[39m\u001b[38;5;124m\"\u001b[39m) \u001b[38;5;28;01mas\u001b[39;00m fr:\n\u001b[0;32m    715\u001b[0m     fr\u001b[38;5;241m.\u001b[39mset_pipelined(\u001b[38;5;28;01mTrue\u001b[39;00m)\n\u001b[1;32m--> 716\u001b[0m     size \u001b[38;5;241m=\u001b[39m \u001b[38;5;28;43mself\u001b[39;49m\u001b[38;5;241;43m.\u001b[39;49m\u001b[43m_transfer_with_callback\u001b[49m\u001b[43m(\u001b[49m\n\u001b[0;32m    717\u001b[0m \u001b[43m        \u001b[49m\u001b[43mreader\u001b[49m\u001b[38;5;241;43m=\u001b[39;49m\u001b[43mfl\u001b[49m\u001b[43m,\u001b[49m\u001b[43m \u001b[49m\u001b[43mwriter\u001b[49m\u001b[38;5;241;43m=\u001b[39;49m\u001b[43mfr\u001b[49m\u001b[43m,\u001b[49m\u001b[43m \u001b[49m\u001b[43mfile_size\u001b[49m\u001b[38;5;241;43m=\u001b[39;49m\u001b[43mfile_size\u001b[49m\u001b[43m,\u001b[49m\u001b[43m \u001b[49m\u001b[43mcallback\u001b[49m\u001b[38;5;241;43m=\u001b[39;49m\u001b[43mcallback\u001b[49m\n\u001b[0;32m    718\u001b[0m \u001b[43m    \u001b[49m\u001b[43m)\u001b[49m\n\u001b[0;32m    719\u001b[0m \u001b[38;5;28;01mif\u001b[39;00m confirm:\n\u001b[0;32m    720\u001b[0m     s \u001b[38;5;241m=\u001b[39m \u001b[38;5;28mself\u001b[39m\u001b[38;5;241m.\u001b[39mstat(remotepath)\n",
      "File \u001b[1;32mc:\\Users\\tsello01\\AppData\\Local\\Programs\\Python\\Python311\\Lib\\site-packages\\paramiko\\sftp_client.py:679\u001b[0m, in \u001b[0;36mSFTPClient._transfer_with_callback\u001b[1;34m(self, reader, writer, file_size, callback)\u001b[0m\n\u001b[0;32m    677\u001b[0m \u001b[38;5;28;01mwhile\u001b[39;00m \u001b[38;5;28;01mTrue\u001b[39;00m:\n\u001b[0;32m    678\u001b[0m     data \u001b[38;5;241m=\u001b[39m reader\u001b[38;5;241m.\u001b[39mread(\u001b[38;5;241m32768\u001b[39m)\n\u001b[1;32m--> 679\u001b[0m     \u001b[43mwriter\u001b[49m\u001b[38;5;241;43m.\u001b[39;49m\u001b[43mwrite\u001b[49m\u001b[43m(\u001b[49m\u001b[43mdata\u001b[49m\u001b[43m)\u001b[49m\n\u001b[0;32m    680\u001b[0m     size \u001b[38;5;241m+\u001b[39m\u001b[38;5;241m=\u001b[39m \u001b[38;5;28mlen\u001b[39m(data)\n\u001b[0;32m    681\u001b[0m     \u001b[38;5;28;01mif\u001b[39;00m \u001b[38;5;28mlen\u001b[39m(data) \u001b[38;5;241m==\u001b[39m \u001b[38;5;241m0\u001b[39m:\n",
      "File \u001b[1;32mc:\\Users\\tsello01\\AppData\\Local\\Programs\\Python\\Python311\\Lib\\site-packages\\paramiko\\file.py:389\u001b[0m, in \u001b[0;36mBufferedFile.write\u001b[1;34m(self, data)\u001b[0m\n\u001b[0;32m    387\u001b[0m     \u001b[38;5;28;01mraise\u001b[39;00m \u001b[38;5;167;01mIOError\u001b[39;00m(\u001b[38;5;124m\"\u001b[39m\u001b[38;5;124mFile not open for writing\u001b[39m\u001b[38;5;124m\"\u001b[39m)\n\u001b[0;32m    388\u001b[0m \u001b[38;5;28;01mif\u001b[39;00m \u001b[38;5;129;01mnot\u001b[39;00m (\u001b[38;5;28mself\u001b[39m\u001b[38;5;241m.\u001b[39m_flags \u001b[38;5;241m&\u001b[39m \u001b[38;5;28mself\u001b[39m\u001b[38;5;241m.\u001b[39mFLAG_BUFFERED):\n\u001b[1;32m--> 389\u001b[0m     \u001b[38;5;28;43mself\u001b[39;49m\u001b[38;5;241;43m.\u001b[39;49m\u001b[43m_write_all\u001b[49m\u001b[43m(\u001b[49m\u001b[43mdata\u001b[49m\u001b[43m)\u001b[49m\n\u001b[0;32m    390\u001b[0m     \u001b[38;5;28;01mreturn\u001b[39;00m\n\u001b[0;32m    391\u001b[0m \u001b[38;5;28mself\u001b[39m\u001b[38;5;241m.\u001b[39m_wbuffer\u001b[38;5;241m.\u001b[39mwrite(data)\n",
      "File \u001b[1;32mc:\\Users\\tsello01\\AppData\\Local\\Programs\\Python\\Python311\\Lib\\site-packages\\paramiko\\file.py:507\u001b[0m, in \u001b[0;36mBufferedFile._write_all\u001b[1;34m(self, raw_data)\u001b[0m\n\u001b[0;32m    505\u001b[0m data \u001b[38;5;241m=\u001b[39m \u001b[38;5;28mmemoryview\u001b[39m(raw_data)\n\u001b[0;32m    506\u001b[0m \u001b[38;5;28;01mwhile\u001b[39;00m \u001b[38;5;28mlen\u001b[39m(data) \u001b[38;5;241m>\u001b[39m \u001b[38;5;241m0\u001b[39m:\n\u001b[1;32m--> 507\u001b[0m     count \u001b[38;5;241m=\u001b[39m \u001b[38;5;28;43mself\u001b[39;49m\u001b[38;5;241;43m.\u001b[39;49m\u001b[43m_write\u001b[49m\u001b[43m(\u001b[49m\u001b[43mdata\u001b[49m\u001b[43m)\u001b[49m\n\u001b[0;32m    508\u001b[0m     data \u001b[38;5;241m=\u001b[39m data[count:]\n\u001b[0;32m    509\u001b[0m     \u001b[38;5;28;01mif\u001b[39;00m \u001b[38;5;28mself\u001b[39m\u001b[38;5;241m.\u001b[39m_flags \u001b[38;5;241m&\u001b[39m \u001b[38;5;28mself\u001b[39m\u001b[38;5;241m.\u001b[39mFLAG_APPEND:\n",
      "File \u001b[1;32mc:\\Users\\tsello01\\AppData\\Local\\Programs\\Python\\Python311\\Lib\\site-packages\\paramiko\\sftp_file.py:208\u001b[0m, in \u001b[0;36mSFTPFile._write\u001b[1;34m(self, data)\u001b[0m\n\u001b[0;32m    206\u001b[0m \u001b[38;5;28;01mwhile\u001b[39;00m \u001b[38;5;28mlen\u001b[39m(\u001b[38;5;28mself\u001b[39m\u001b[38;5;241m.\u001b[39m_reqs):\n\u001b[0;32m    207\u001b[0m     req \u001b[38;5;241m=\u001b[39m \u001b[38;5;28mself\u001b[39m\u001b[38;5;241m.\u001b[39m_reqs\u001b[38;5;241m.\u001b[39mpopleft()\n\u001b[1;32m--> 208\u001b[0m     t, msg \u001b[38;5;241m=\u001b[39m \u001b[38;5;28;43mself\u001b[39;49m\u001b[38;5;241;43m.\u001b[39;49m\u001b[43msftp\u001b[49m\u001b[38;5;241;43m.\u001b[39;49m\u001b[43m_read_response\u001b[49m\u001b[43m(\u001b[49m\u001b[43mreq\u001b[49m\u001b[43m)\u001b[49m\n\u001b[0;32m    209\u001b[0m     \u001b[38;5;28;01mif\u001b[39;00m t \u001b[38;5;241m!=\u001b[39m CMD_STATUS:\n\u001b[0;32m    210\u001b[0m         \u001b[38;5;28;01mraise\u001b[39;00m SFTPError(\u001b[38;5;124m\"\u001b[39m\u001b[38;5;124mExpected status\u001b[39m\u001b[38;5;124m\"\u001b[39m)\n",
      "File \u001b[1;32mc:\\Users\\tsello01\\AppData\\Local\\Programs\\Python\\Python311\\Lib\\site-packages\\paramiko\\sftp_client.py:909\u001b[0m, in \u001b[0;36mSFTPClient._read_response\u001b[1;34m(self, waitfor)\u001b[0m\n\u001b[0;32m    906\u001b[0m \u001b[38;5;28;01mif\u001b[39;00m num \u001b[38;5;241m==\u001b[39m waitfor:\n\u001b[0;32m    907\u001b[0m     \u001b[38;5;66;03m# synchronous\u001b[39;00m\n\u001b[0;32m    908\u001b[0m     \u001b[38;5;28;01mif\u001b[39;00m t \u001b[38;5;241m==\u001b[39m CMD_STATUS:\n\u001b[1;32m--> 909\u001b[0m         \u001b[38;5;28;43mself\u001b[39;49m\u001b[38;5;241;43m.\u001b[39;49m\u001b[43m_convert_status\u001b[49m\u001b[43m(\u001b[49m\u001b[43mmsg\u001b[49m\u001b[43m)\u001b[49m\n\u001b[0;32m    910\u001b[0m     \u001b[38;5;28;01mreturn\u001b[39;00m t, msg\n\u001b[0;32m    912\u001b[0m \u001b[38;5;66;03m# can not rewrite this to deal with E721, either as a None check\u001b[39;00m\n\u001b[0;32m    913\u001b[0m \u001b[38;5;66;03m# nor as not an instance of None or NoneType\u001b[39;00m\n",
      "File \u001b[1;32mc:\\Users\\tsello01\\AppData\\Local\\Programs\\Python\\Python311\\Lib\\site-packages\\paramiko\\sftp_client.py:942\u001b[0m, in \u001b[0;36mSFTPClient._convert_status\u001b[1;34m(self, msg)\u001b[0m\n\u001b[0;32m    940\u001b[0m     \u001b[38;5;28;01mraise\u001b[39;00m \u001b[38;5;167;01mIOError\u001b[39;00m(errno\u001b[38;5;241m.\u001b[39mEACCES, text)\n\u001b[0;32m    941\u001b[0m \u001b[38;5;28;01melse\u001b[39;00m:\n\u001b[1;32m--> 942\u001b[0m     \u001b[38;5;28;01mraise\u001b[39;00m \u001b[38;5;167;01mIOError\u001b[39;00m(text)\n",
      "\u001b[1;31mOSError\u001b[0m: /euaqurs6ftp/Down/OKFOODS/euaqurs6ftp/Down/OKFOODS/OKFoods Weekly Store Level_Aquelle_20241124-20241208.csv"
     ]
    }
   ],
   "source": [
    "sftp_uploader = SFTPUploader('sftp.eu.infores.com', 'tsello01', '@Cellz911+_)', 22)\n",
    "source_folder = r'Q:\\Manufacturer Services\\General\\CSV Extractions\\New CSV Extraction\\Ok foods\\\\Weekly Delivery'\n",
    "\n",
    "upload_list = [\n",
    "    (source_folder, r'\\euaqurs6ftp\\\\Down\\OKFOODS', 'Aquelle'),\n",
    "    (source_folder, r'\\eudilys4ftp\\\\Down\\OKFOODS', 'Diageo'),\n",
    "    (source_folder, r'\\eurclva4ftp\\\\Down\\RCL',     'Siqalo'),\n",
    "    (source_folder, r'\\eurclva4ftp\\\\Down\\RCL',     'RCL'),\n",
    "    (source_folder, r'\\eurymjc8ftp\\\\Down\\OKFOODS', 'Rymco'),\n",
    "    (source_folder, r'\\eusouba6ftp\\\\Down\\OKFOODS', 'Southern'),\n",
    "    (source_folder, r'\\eusutnm7ftp\\\\Down\\OKFOODS', 'Thokoman Foods')\n",
    "]\n",
    "\n",
    "for source_folder, remote_folder, client_name in upload_list:\n",
    "  print(f\"{remote_folder}, {client_name}\")\n",
    "  sftp_uploader.upload_data(source_folder, remote_folder, client_name)"
   ]
  }
 ],
 "metadata": {
  "kernelspec": {
   "display_name": "Python 3",
   "language": "python",
   "name": "python3"
  },
  "language_info": {
   "codemirror_mode": {
    "name": "ipython",
    "version": 3
   },
   "file_extension": ".py",
   "mimetype": "text/x-python",
   "name": "python",
   "nbconvert_exporter": "python",
   "pygments_lexer": "ipython3",
   "version": "3.11.3"
  },
  "orig_nbformat": 4
 },
 "nbformat": 4,
 "nbformat_minor": 2
}
