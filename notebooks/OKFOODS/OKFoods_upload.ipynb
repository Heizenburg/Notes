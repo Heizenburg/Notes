{
 "cells": [
  {
   "cell_type": "code",
   "execution_count": 16,
   "metadata": {},
   "outputs": [],
   "source": [
    "import pysftp\n",
    "import os\n",
    "from getpass import getpass\n",
    "from dotenv import load_dotenv"
   ]
  },
  {
   "cell_type": "code",
   "execution_count": 17,
   "metadata": {},
   "outputs": [],
   "source": [
    "class SFTPUploader:\n",
    "    def __init__(self, host, username, password=None, port=22):\n",
    "        self.host = host\n",
    "        self.username = username\n",
    "        self.password = password\n",
    "        self.port = port\n",
    "\n",
    "    def get_password(self):\n",
    "        if self.password is None:\n",
    "            # Check if password is available in environment file\n",
    "            load_dotenv('.env')\n",
    "            password = os.getenv('FTP_PASSWORD')\n",
    "            if password:\n",
    "                self.password = password\n",
    "            else:\n",
    "                # Prompt the user for the password\n",
    "                self.password = getpass('Enter SFTP password: ')\n",
    "\n",
    "    def upload_data(self, local_folder, remote_folder, client_name):\n",
    "        self.get_password()\n",
    "        cnopts = pysftp.CnOpts()\n",
    "        cnopts.hostkeys = None  # Disable host key checking\n",
    "        with pysftp.Connection(self.host, username=self.username, password=self.password, port=self.port, cnopts=cnopts) as sftp:\n",
    "            self._upload_files(sftp, local_folder, remote_folder, client_name)\n",
    "\n",
    "    def _upload_files(self, sftp, local_folder, remote_folder, client_name):\n",
    "        sftp.cwd(remote_folder)\n",
    "        files = sftp.listdir()\n",
    "        for file in files:\n",
    "            file_path = remote_folder + '/' + file\n",
    "            if sftp.isfile(file_path):\n",
    "                sftp.remove(file_path)\n",
    "        for file in os.listdir(local_folder):\n",
    "            local_file_path = os.path.join(local_folder, file)\n",
    "            remote_file_path = remote_folder + '/' + file\n",
    "            if client_name.lower() in file.lower():\n",
    "                sftp.put(local_file_path, remote_file_path)\n",
    "                print(f\"Uploaded {file} to {remote_folder}\")\n",
    "        directories = [file for file in os.listdir(local_folder) if os.path.isdir(os.path.join(local_folder, file))]\n",
    "        for directory in directories:\n",
    "            local_directory_path = os.path.join(local_folder, directory)\n",
    "            remote_directory_path = remote_folder + '/' + directory\n",
    "            sftp.mkdir(remote_directory_path)\n",
    "            self._upload_files(sftp, local_directory_path, remote_directory_path, client_name)\n"
   ]
  },
  {
   "cell_type": "code",
   "execution_count": 19,
   "metadata": {},
   "outputs": [
    {
     "data": {
      "text/plain": [
       "True"
      ]
     },
     "execution_count": 19,
     "metadata": {},
     "output_type": "execute_result"
    }
   ],
   "source": [
    "load_dotenv()  # Load environment variables from .env file"
   ]
  },
  {
   "cell_type": "code",
   "execution_count": null,
   "metadata": {},
   "outputs": [],
   "source": [
    "sftp_uploader = SFTPUploader('sftp.eu.infores.com', 'tsello01')\n",
    "source_folder = r'Q:\\Manufacturer Services\\General\\CSV Extractions\\New CSV Extraction\\Ok foods'\n",
    "\n",
    "upload_list = [\n",
    "    (source_folder, r'\\euaqurs6ftp\\\\Down\\OKFOODS', 'Aquelle'),\n",
    "    (source_folder, r'\\eudilys4ftp\\\\Down\\OKFOODS', 'Diageo'),\n",
    "    (source_folder, r'\\eurclva4ftp\\\\Down\\RCL',     'Siqalo'),\n",
    "    (source_folder, r'\\eurclva4ftp\\\\Down\\RCL',     'RCL'),\n",
    "    (source_folder, r'\\eurymjc8ftp\\\\Down\\OKFOODS', 'Rymco'),\n",
    "    (source_folder, r'\\eusouba6ftp\\\\Down\\OKFOODS', 'Southern'),\n",
    "    (source_folder, r'\\eusutnm7ftp\\\\Down\\OKFOODS', 'Thokoman Foods')\n",
    "]\n",
    "\n",
    "for source_folder, remote_folder, client_name in upload_list:\n",
    "    sftp_uploader.upload_data(source_folder, remote_folder, client_name)"
   ]
  }
 ],
 "metadata": {
  "kernelspec": {
   "display_name": "base",
   "language": "python",
   "name": "python3"
  },
  "language_info": {
   "codemirror_mode": {
    "name": "ipython",
    "version": 3
   },
   "file_extension": ".py",
   "mimetype": "text/x-python",
   "name": "python",
   "nbconvert_exporter": "python",
   "pygments_lexer": "ipython3",
   "version": "3.10.9"
  },
  "orig_nbformat": 4
 },
 "nbformat": 4,
 "nbformat_minor": 2
}
