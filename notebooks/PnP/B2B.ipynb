{
 "cells": [
  {
   "cell_type": "code",
   "execution_count": null,
   "metadata": {},
   "outputs": [],
   "source": [
    "import os\n",
    "import glob\n",
    "import time\n",
    "import pandas as pd"
   ]
  },
  {
   "cell_type": "code",
   "execution_count": null,
   "metadata": {},
   "outputs": [],
   "source": [
    "def remove_except_recent(directory, days):\n",
    "    # Get a list of all files in the directory and its subdirectories\n",
    "    files = []\n",
    "    for root, dirs, filenames in os.walk(directory):\n",
    "        for filename in filenames:\n",
    "            files.append(os.path.join(root, filename))\n",
    "\n",
    "    threshold_time = time.time() - (days * 24 * 60 * 60)\n",
    "    most_recent_files = {}\n",
    "    deleted_files = []\n",
    "    kept_files = []\n",
    "\n",
    "    # Keep the most recent file in each directory\n",
    "    for file in files:\n",
    "        directory = os.path.dirname(file)\n",
    "\n",
    "        # If there is only one file in the directory, skip it\n",
    "        if len(glob.glob(os.path.join(directory, \"*\"))) == 1:\n",
    "            kept_files.append(os.path.basename(file))\n",
    "            continue\n",
    "\n",
    "        # If the directory is not in the most_recent_files dictionary, add it\n",
    "        if directory not in most_recent_files:\n",
    "            most_recent_files[directory] = file\n",
    "            kept_files.append(os.path.basename(file))\n",
    "        else:\n",
    "            # If the file is older than the most recent file in the directory and older than the threshold, delete it\n",
    "            if os.path.getmtime(file) < os.path.getmtime(most_recent_files[directory]) and os.path.getmtime(file) < threshold_time:\n",
    "                os.remove(file)\n",
    "                deleted_files.append(os.path.basename(file))\n",
    "                print(f\"Deleted file: {file}\")\n",
    "            else:\n",
    "                # Otherwise, update the most recent file in the directory\n",
    "                os.remove(most_recent_files[directory])\n",
    "                deleted_files.append(os.path.basename(most_recent_files[directory]))\n",
    "                most_recent_files[directory] = file\n",
    "                kept_files.append(os.path.basename(file))\n",
    "\n",
    "    # Create a Pandas DataFrame of the deleted files\n",
    "    df_deleted = pd.DataFrame(deleted_files, columns=[\"Deleted Files\"])\n",
    "    df_deleted[\"Deleted Files\"] = df_deleted[\"Deleted Files\"].apply(lambda x: os.path.basename(x))\n",
    "    df_deleted = df_deleted.sort_values(by=[\"Deleted Files\"])\n",
    "\n",
    "    # Create a Pandas DataFrame of the kept files with only the last two elements in the file path\n",
    "    df_kept = pd.DataFrame(kept_files, columns=[\"Kept Files\"])\n",
    "    df_kept[\"Kept Files\"] = df_kept[\"Kept Files\"].apply(lambda x: os.path.join(*os.path.split(x)[-2:]))\n",
    "    df_kept = df_kept.drop_duplicates()\n",
    "\n",
    "    return df_deleted, df_kept"
   ]
  },
  {
   "cell_type": "code",
   "execution_count": null,
   "metadata": {},
   "outputs": [],
   "source": [
    "directory = r'R:\\RawData\\PNP B2B\\\\Daily Client File Downloads'\n",
    "days = 7"
   ]
  },
  {
   "cell_type": "code",
   "execution_count": null,
   "metadata": {},
   "outputs": [],
   "source": [
    "remove_except_recent(directory, days)"
   ]
  }
 ],
 "metadata": {
  "kernelspec": {
   "display_name": "base",
   "language": "python",
   "name": "python3"
  },
  "language_info": {
   "codemirror_mode": {
    "name": "ipython",
    "version": 3
   },
   "file_extension": ".py",
   "mimetype": "text/x-python",
   "name": "python",
   "nbconvert_exporter": "python",
   "pygments_lexer": "ipython3",
   "version": "3.10.9"
  },
  "orig_nbformat": 4
 },
 "nbformat": 4,
 "nbformat_minor": 2
}
