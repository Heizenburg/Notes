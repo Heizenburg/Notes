{
 "cells": [
  {
   "cell_type": "code",
   "execution_count": 4,
   "metadata": {},
   "outputs": [],
   "source": [
    "from twilio.rest import Client\n",
    "import os\n",
    "\n",
    "from dotenv import load_dotenv"
   ]
  },
  {
   "cell_type": "code",
   "execution_count": 5,
   "metadata": {},
   "outputs": [
    {
     "data": {
      "text/plain": [
       "True"
      ]
     },
     "execution_count": 5,
     "metadata": {},
     "output_type": "execute_result"
    }
   ],
   "source": [
    "# Load environment variables.\n",
    "load_dotenv()"
   ]
  },
  {
   "cell_type": "code",
   "execution_count": 6,
   "metadata": {},
   "outputs": [
    {
     "name": "stdout",
     "output_type": "stream",
     "text": [
      "Message sent with SID: SM5bdc63a002a4afa32d1e65a64e52c1bf\n"
     ]
    }
   ],
   "source": [
    "def send_message(account_sid, auth_token, sender_phone_number, receiver_phone_number, message):\n",
    "    client = Client(account_sid, auth_token)\n",
    "    message = client.messages.create(\n",
    "        body=message,\n",
    "        from_=sender_phone_number,\n",
    "        to=receiver_phone_number\n",
    "    )\n",
    "    print(\"Message sent with SID:\", message.sid)\n",
    "\n",
    "def check_folder_and_send_messages(folder_path, account_sid, auth_token, sender_phone_number, receiver_phone_number):\n",
    "    if not os.listdir(folder_path):\n",
    "        message = f\"The folder at {folder_path} is empty.\"\n",
    "        send_message(account_sid, auth_token, sender_phone_number, receiver_phone_number, message)\n",
    "    else:\n",
    "        print(\"Folder is not empty.\")\n",
    "\n",
    "# Set Twilio account details, and phone numbers\n",
    "account_sid = os.getenv('TWILIO_ACCOUNT_SID')\n",
    "auth_token = os.getenv('TWILIO_TOKEN')\n",
    "sender_phone_number = os.getenv('TWILIO_PHONE_NUMBER') \n",
    "receiver_phone_number = os.getenv('RECEIVER_NUMBER') \n",
    "\n",
    "# Call the function to check the folder and send a text message if empty\n",
    "check_folder_and_send_messages(r\"R:\\RawData\\PNP SAP\\Monthly\\ToUpload\", account_sid, auth_token, sender_phone_number, receiver_phone_number)\n"
   ]
  }
 ],
 "metadata": {
  "kernelspec": {
   "display_name": "base",
   "language": "python",
   "name": "python3"
  },
  "language_info": {
   "codemirror_mode": {
    "name": "ipython",
    "version": 3
   },
   "file_extension": ".py",
   "mimetype": "text/x-python",
   "name": "python",
   "nbconvert_exporter": "python",
   "pygments_lexer": "ipython3",
   "version": "3.10.9"
  }
 },
 "nbformat": 4,
 "nbformat_minor": 2
}
