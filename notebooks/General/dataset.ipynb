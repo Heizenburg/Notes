{
 "cells": [
  {
   "cell_type": "code",
   "execution_count": null,
   "metadata": {},
   "outputs": [],
   "source": [
    "import pandas as pd\n",
    "import numpy as np\n",
    "import os"
   ]
  },
  {
   "cell_type": "code",
   "execution_count": null,
   "metadata": {},
   "outputs": [],
   "source": [
    "pwd = os.getcwd(); pwd"
   ]
  },
  {
   "cell_type": "code",
   "execution_count": null,
   "metadata": {},
   "outputs": [],
   "source": [
    "dataset = pd.read_csv(f\"{pwd}\\\\3M.csv\")\n",
    "df = pd.DataFrame(dataset)\n",
    "df.info()"
   ]
  },
  {
   "cell_type": "code",
   "execution_count": null,
   "metadata": {},
   "outputs": [],
   "source": [
    "df.describe()"
   ]
  },
  {
   "cell_type": "code",
   "execution_count": null,
   "metadata": {},
   "outputs": [],
   "source": [
    "def sum_of_columns(data_frame, columns_to_sum=None, exclude_columns=None):\n",
    "    \"\"\"\n",
    "    Calculates the sum of the values in the specified columns of a DataFrame.\n",
    "\n",
    "    Parameters:\n",
    "        data_frame (pandas.DataFrame): The DataFrame to calculate the sums from.\n",
    "        columns_to_sum (list of str, optional): A list of column names to sum up.\n",
    "            If None (default), all columns in the DataFrame will be included.\n",
    "        exclude_columns (list of str, optional): A list of column names to exclude from the sums.\n",
    "            If None (default), no columns will be excluded.\n",
    "\n",
    "    Returns:\n",
    "        A pandas Series object containing the sums of the specified columns.\n",
    "    \"\"\"\n",
    "    if columns_to_sum is not None and exclude_columns is not None:\n",
    "        raise ValueError(\"Only one of 'columns_to_sum' and 'exclude_columns' can be provided.\")\n",
    "    \n",
    "    if columns_to_sum is None:\n",
    "        columns_to_sum = data_frame.columns\n",
    "\n",
    "    if exclude_columns is not None:\n",
    "        columns_to_sum = [col for col in columns_to_sum if col not in exclude_columns]\n",
    "    \n",
    "    return data_frame[columns_to_sum].sum()\n",
    "\n",
    "df_copy = df.copy()\n",
    "sum_of_columns(df_copy, exclude_columns=df_copy.columns[:-2])\n"
   ]
  },
  {
   "cell_type": "code",
   "execution_count": null,
   "metadata": {},
   "outputs": [],
   "source": [
    "store_code = df_copy['StoreCode'].unique()\n",
    "df_unique = pd.DataFrame(store_code); df_unique\n"
   ]
  }
 ],
 "metadata": {
  "kernelspec": {
   "display_name": "base",
   "language": "python",
   "name": "python3"
  },
  "language_info": {
   "codemirror_mode": {
    "name": "ipython",
    "version": 3
   },
   "file_extension": ".py",
   "mimetype": "text/x-python",
   "name": "python",
   "nbconvert_exporter": "python",
   "pygments_lexer": "ipython3",
   "version": "3.10.9"
  },
  "orig_nbformat": 4
 },
 "nbformat": 4,
 "nbformat_minor": 2
}
