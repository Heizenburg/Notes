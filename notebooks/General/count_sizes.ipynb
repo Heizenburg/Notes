{
 "cells": [
  {
   "cell_type": "code",
   "execution_count": null,
   "metadata": {},
   "outputs": [],
   "source": [
    "import os\n",
    "from pathlib import Path\n",
    "\n",
    "def get_folder_size(folder_path):\n",
    "    total_size = 0\n",
    "    for dirpath, dirnames, filenames in os.walk(folder_path):\n",
    "        for filename in filenames:\n",
    "            file_path = Path(dirpath) / filename\n",
    "            # Add the size of each file to the total size\n",
    "            total_size += file_path.stat().st_size\n",
    "    return total_size\n",
    "\n",
    "def print_folder_sizes(root_folder):\n",
    "    root_path = Path(root_folder)\n",
    "    \n",
    "    if not root_path.is_dir():\n",
    "        print(f\"{root_folder} is not a valid directory.\")\n",
    "        return\n",
    "\n",
    "    print(f\"Folder sizes in '{root_folder}':\")\n",
    "    for folder in root_path.iterdir():\n",
    "        if folder.is_dir():\n",
    "            size = get_folder_size(folder)\n",
    "            print(f\"{folder}: {size / (1024 * 1024):.2f} MB\")\n",
    "\n",
    "if __name__ == \"__main__\":\n",
    "    # Specify the root folder here\n",
    "    root_folder = r'Q:\\Manufacturer Services'\n",
    "    print_folder_sizes(root_folder)"
   ]
  }
 ],
 "metadata": {
  "kernelspec": {
   "display_name": "Python 3",
   "language": "python",
   "name": "python3"
  },
  "language_info": {
   "codemirror_mode": {
    "name": "ipython",
    "version": 3
   },
   "file_extension": ".py",
   "mimetype": "text/x-python",
   "name": "python",
   "nbconvert_exporter": "python",
   "pygments_lexer": "ipython3",
   "version": "3.11.3"
  }
 },
 "nbformat": 4,
 "nbformat_minor": 2
}
