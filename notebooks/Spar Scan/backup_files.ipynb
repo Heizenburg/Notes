{
 "cells": [
  {
   "cell_type": "code",
   "execution_count": null,
   "metadata": {},
   "outputs": [],
   "source": [
    "import os\n",
    "import shutil\n",
    "\n",
    "src_dir = r'R:\\RawData\\\\Spar\\\\SparScanning_Automate\\ToUpload'\n",
    "dst_dir = r'R:\\RawData\\\\Spar\\\\SparScanning_Automate\\ToUpload\\\\April Spar Back Up'\n",
    "\n",
    "for filename in os.listdir(src_dir):\n",
    "    src_file = os.path.join(src_dir, filename)\n",
    "    dst_file = os.path.join(dst_dir, filename)\n",
    "    \n",
    "    shutil.copy(src_file, dst_file)\n",
    "    print(f\"Copied {src_file} to {dst_file}\")"
   ]
  }
 ],
 "metadata": {
  "kernelspec": {
   "display_name": "Python 3",
   "language": "python",
   "name": "python3"
  },
  "language_info": {
   "codemirror_mode": {
    "name": "ipython",
    "version": 3
   },
   "file_extension": ".py",
   "mimetype": "text/x-python",
   "name": "python",
   "nbconvert_exporter": "python",
   "pygments_lexer": "ipython3",
   "version": "3.11.3"
  }
 },
 "nbformat": 4,
 "nbformat_minor": 2
}
