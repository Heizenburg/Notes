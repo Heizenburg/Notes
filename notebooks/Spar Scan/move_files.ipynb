{
 "cells": [
  {
   "cell_type": "code",
   "execution_count": 2,
   "metadata": {},
   "outputs": [
    {
     "name": "stdout",
     "output_type": "stream",
     "text": [
      "File already exists, skipping: R:\\RawData\\\\Spar\\\\SparScanning_Automate\\ToUpload\\\\Scan Data\\ADCOCK_INGRAM_CONSUMER-DC_DATA-202406.zip\n",
      "File already exists, skipping: R:\\RawData\\\\Spar\\\\SparScanning_Automate\\ToUpload\\\\Scan Data\\ADCOCK_INGRAM_CONSUMER-Scan_DATA-202406.zip\n",
      "File already exists, skipping: R:\\RawData\\\\Spar\\\\SparScanning_Automate\\ToUpload\\\\Scan Data\\AFRICAN_EXTRACTS-Scan_DATA-202406.zip\n",
      "File already exists, skipping: R:\\RawData\\\\Spar\\\\SparScanning_Automate\\ToUpload\\\\Scan Data\\PHARMA_NATURA-Scan_DATA-202406.zip\n",
      "File already exists, skipping: R:\\RawData\\\\Spar\\\\SparScanning_Automate\\ToUpload\\\\Scan Data\\BAYER-Scan_DATA-202406.zip\n",
      "File already exists, skipping: R:\\RawData\\\\Spar\\\\SparScanning_Automate\\ToUpload\\\\Scan Data\\RE_ Circana_ Spar File Reminder.zip\n",
      "File already exists, skipping: R:\\RawData\\\\Spar\\\\SparScanning_Automate\\ToUpload\\\\Scan Data\\StoreList.csv\n",
      "File already exists, skipping: R:\\RawData\\\\Spar\\\\SparScanning_Automate\\ToUpload\\\\Scan Data\\I_&_J-Scan_DATA-202406.zip\n",
      "File already exists, skipping: R:\\RawData\\\\Spar\\\\SparScanning_Automate\\ToUpload\\\\Scan Data\\INDIGO_BRANDS_(PTY)_LTD-Scan_DATA-202406.zip\n",
      "File already exists, skipping: R:\\RawData\\\\Spar\\\\SparScanning_Automate\\ToUpload\\\\Scan Data\\Restrictions June.csv\n",
      "File already exists, skipping: R:\\RawData\\\\Spar\\\\SparScanning_Automate\\ToUpload\\\\Scan Data\\SLDB_SparScanning_MonthlyData_PROD_JOYA_BRANDS202406.csv\n",
      "File already exists, skipping: R:\\RawData\\\\Spar\\\\SparScanning_Automate\\ToUpload\\\\Scan Data\\Spar Data.zip\n",
      "File already exists, skipping: R:\\RawData\\\\Spar\\\\SparScanning_Automate\\ToUpload\\\\Scan Data\\Store List June.csv\n",
      "File already exists, skipping: R:\\RawData\\\\Spar\\\\SparScanning_Automate\\ToUpload\\\\Scan Data\\ZASDPM_SparScanning_ClusterData_JOYA_BRANDS202406.csv\n",
      "File already exists, skipping: R:\\RawData\\\\Spar\\\\SparScanning_Automate\\ToUpload\\\\Scan Data\\PROCTER_&_GAMBLE-Scan_DATA-202406.zip\n",
      "File already exists, skipping: R:\\RawData\\\\Spar\\\\SparScanning_Automate\\ToUpload\\\\Scan Data\\StoreList.csv\n",
      "File already exists, skipping: R:\\RawData\\\\Spar\\\\SparScanning_Automate\\ToUpload\\\\Scan Data\\OneDrive_1_2024-07-22.zip\n",
      "Copied: Q:\\Manufacturer Services\\General\\\\Spar Scanning Raw File\\RFG\\RFG_FOODS_(PTY)_LTD-DC_DATA-202406.zip to R:\\RawData\\\\Spar\\\\SparScanning_Automate\\ToUpload\\\\Scan Data\\RFG_FOODS_(PTY)_LTD-DC_DATA-202406.zip\n",
      "Copied: Q:\\Manufacturer Services\\General\\\\Spar Scanning Raw File\\RFG\\RFG_FOODS_(PTY)_LTD-Scan_DATA-202406.zip to R:\\RawData\\\\Spar\\\\SparScanning_Automate\\ToUpload\\\\Scan Data\\RFG_FOODS_(PTY)_LTD-Scan_DATA-202406.zip\n",
      "File already exists, skipping: R:\\RawData\\\\Spar\\\\SparScanning_Automate\\ToUpload\\\\Scan Data\\RIESES_FOOD_IMPORTS-Scan_DATA-202406 (1).zip\n",
      "File already exists, skipping: R:\\RawData\\\\Spar\\\\SparScanning_Automate\\ToUpload\\\\Scan Data\\SANULAC_NUTRITIONALS-Scan_CLUSTER_DATA-202406.csv\n",
      "File already exists, skipping: R:\\RawData\\\\Spar\\\\SparScanning_Automate\\ToUpload\\\\Scan Data\\SANULAC_NUTRITIONALS-Scan_PRODUCT_DATA-202406.csv\n",
      "File already exists, skipping: R:\\RawData\\\\Spar\\\\SparScanning_Automate\\ToUpload\\\\Scan Data\\SANULAC_NUTRITIONALS_Restrictions-202406.csv\n",
      "File already exists, skipping: R:\\RawData\\\\Spar\\\\SparScanning_Automate\\ToUpload\\\\Scan Data\\StoreList.csv\n",
      "File already exists, skipping: R:\\RawData\\\\Spar\\\\SparScanning_Automate\\ToUpload\\\\Scan Data\\TACOMA_FOODS-Scan_DATA-202406.zip\n",
      "File already exists, skipping: R:\\RawData\\\\Spar\\\\SparScanning_Automate\\ToUpload\\\\Scan Data\\Scan Data June 24.zip\n",
      "All files have been processed successfully.\n"
     ]
    }
   ],
   "source": [
    "import os\n",
    "import shutil\n",
    "\n",
    "def copy_files(source_folder, destination_folder):\n",
    "    os.makedirs(destination_folder, exist_ok=True)\n",
    "\n",
    "    for root, dirs, files in os.walk(source_folder):\n",
    "        for file in files:\n",
    "            source_file = os.path.join(root, file)\n",
    "            destination_file = os.path.join(destination_folder, file)\n",
    "            \n",
    "            if os.path.exists(destination_file):\n",
    "                print(f\"File already exists, skipping: {destination_file}\")\n",
    "                continue  # Skip copying this file\n",
    "\n",
    "            shutil.copy2(source_file, destination_file)\n",
    "            print(f'Copied: {source_file} to {destination_file}')\n",
    "\n",
    "if __name__ == \"__main__\":\n",
    "    source_folder = r'Q:\\Manufacturer Services\\General\\\\Spar Scanning Raw File'\n",
    "    destination_folder = r'R:\\RawData\\\\Spar\\\\SparScanning_Automate\\ToUpload\\\\Scan Data'\n",
    "\n",
    "    copy_files(source_folder, destination_folder)\n",
    "    print(\"All files have been processed successfully.\")"
   ]
  }
 ],
 "metadata": {
  "kernelspec": {
   "display_name": "Python 3",
   "language": "python",
   "name": "python3"
  },
  "language_info": {
   "codemirror_mode": {
    "name": "ipython",
    "version": 3
   },
   "file_extension": ".py",
   "mimetype": "text/x-python",
   "name": "python",
   "nbconvert_exporter": "python",
   "pygments_lexer": "ipython3",
   "version": "3.11.3"
  }
 },
 "nbformat": 4,
 "nbformat_minor": 2
}
