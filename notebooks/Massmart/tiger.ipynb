{
 "cells": [
  {
   "cell_type": "code",
   "execution_count": 1,
   "metadata": {},
   "outputs": [],
   "source": [
    "import pandas as pd\n",
    "import numpy as np\n",
    "import os"
   ]
  },
  {
   "cell_type": "code",
   "execution_count": 2,
   "metadata": {},
   "outputs": [
    {
     "data": {
      "text/plain": [
       "'c:\\\\Users\\\\tsello01\\\\Documents\\\\Scripts\\\\data'"
      ]
     },
     "execution_count": 2,
     "metadata": {},
     "output_type": "execute_result"
    }
   ],
   "source": [
    "def replace_last_directory(path, new_directory):\n",
    "    return \"\\\\\".join(path.split(\"\\\\\")[:-1] + [new_directory])\n",
    "\n",
    "pwd = os.getcwd()\n",
    "new_pwd = replace_last_directory(pwd, \"data\"); new_pwd"
   ]
  },
  {
   "cell_type": "code",
   "execution_count": 3,
   "metadata": {},
   "outputs": [
    {
     "name": "stdout",
     "output_type": "stream",
     "text": [
      "<class 'pandas.core.frame.DataFrame'>\n",
      "RangeIndex: 19230 entries, 0 to 19229\n",
      "Data columns (total 26 columns):\n",
      " #   Column             Non-Null Count  Dtype  \n",
      "---  ------             --------------  -----  \n",
      " 0   EndDate            19230 non-null  object \n",
      " 1   StartDate          19229 non-null  object \n",
      " 2   BranchCode         19229 non-null  float64\n",
      " 3   BranchName         19229 non-null  object \n",
      " 4   BranchChannel      19229 non-null  object \n",
      " 5   BranchSubCategory  16798 non-null  float64\n",
      " 6   SupplierCode       19229 non-null  object \n",
      " 7   SupplierName       19229 non-null  object \n",
      " 8   ProductCode        19229 non-null  object \n",
      " 9   LinkCode           14485 non-null  object \n",
      " 10  ProductName        19229 non-null  object \n",
      " 11  Barcode            19221 non-null  object \n",
      " 12  Units              19229 non-null  float64\n",
      " 13  Food               19229 non-null  object \n",
      " 14  Status             19229 non-null  object \n",
      " 15  HeadGroup          19229 non-null  object \n",
      " 16  SuperGroupName     19224 non-null  object \n",
      " 17  CategoryName       19227 non-null  object \n",
      " 18  SubCategoryName    19229 non-null  object \n",
      " 19  BrandName          19229 non-null  object \n",
      " 20  ProductGroupName   19229 non-null  object \n",
      " 21  Quantity           19229 non-null  float64\n",
      " 22  ValueExcl          19229 non-null  float64\n",
      " 23  LoadDate           19229 non-null  object \n",
      " 24  SubCategoryCode    19229 non-null  float64\n",
      " 25  IsDelta            19229 non-null  float64\n",
      "dtypes: float64(7), object(19)\n",
      "memory usage: 3.8+ MB\n"
     ]
    }
   ],
   "source": [
    "dataset = pd.read_csv(f\"{new_pwd}\\\\TigerSA_KitKat_WE_20230409.txt\", delimiter='|')\n",
    "df = pd.DataFrame(dataset)\n",
    "df.info()"
   ]
  },
  {
   "cell_type": "code",
   "execution_count": 4,
   "metadata": {},
   "outputs": [
    {
     "data": {
      "text/html": [
       "<div>\n",
       "<style scoped>\n",
       "    .dataframe tbody tr th:only-of-type {\n",
       "        vertical-align: middle;\n",
       "    }\n",
       "\n",
       "    .dataframe tbody tr th {\n",
       "        vertical-align: top;\n",
       "    }\n",
       "\n",
       "    .dataframe thead th {\n",
       "        text-align: right;\n",
       "    }\n",
       "</style>\n",
       "<table border=\"1\" class=\"dataframe\">\n",
       "  <thead>\n",
       "    <tr style=\"text-align: right;\">\n",
       "      <th></th>\n",
       "      <th>Barcode</th>\n",
       "      <th>ProductName</th>\n",
       "    </tr>\n",
       "  </thead>\n",
       "  <tbody>\n",
       "    <tr>\n",
       "      <th>0</th>\n",
       "      <td>6001280500116</td>\n",
       "      <td>JEYES FLUID  500ML  UNIT-1</td>\n",
       "    </tr>\n",
       "    <tr>\n",
       "      <th>1</th>\n",
       "      <td>6001280500116</td>\n",
       "      <td>JEYES FLUID  500ML  UNIT-1</td>\n",
       "    </tr>\n",
       "    <tr>\n",
       "      <th>2</th>\n",
       "      <td>6001280501397</td>\n",
       "      <td>JEYES FLUID  500ML  PACK-6</td>\n",
       "    </tr>\n",
       "    <tr>\n",
       "      <th>3</th>\n",
       "      <td>6001280501397</td>\n",
       "      <td>JEYES FLUID  500ML  PACK-6</td>\n",
       "    </tr>\n",
       "    <tr>\n",
       "      <th>4</th>\n",
       "      <td>6001206413681</td>\n",
       "      <td>DOOM 300ML SUPER GREEN UNIT-1</td>\n",
       "    </tr>\n",
       "    <tr>\n",
       "      <th>...</th>\n",
       "      <td>...</td>\n",
       "      <td>...</td>\n",
       "    </tr>\n",
       "    <tr>\n",
       "      <th>19225</th>\n",
       "      <td>6001299046667</td>\n",
       "      <td>TROPIKA EAZY 1LT MANGO PEACH PACK-6</td>\n",
       "    </tr>\n",
       "    <tr>\n",
       "      <th>19226</th>\n",
       "      <td>6004101010139</td>\n",
       "      <td>MAMA'S SAUCES 2LT TOMATO SAUCE UNIT-1</td>\n",
       "    </tr>\n",
       "    <tr>\n",
       "      <th>19227</th>\n",
       "      <td>6004101010139</td>\n",
       "      <td>MAMA'S SAUCES 2LT TOMATO SAUCE UNIT-1</td>\n",
       "    </tr>\n",
       "    <tr>\n",
       "      <th>19228</th>\n",
       "      <td>6004101010146</td>\n",
       "      <td>MAMA'S SAUCES 5LT TOMATO SAUCE UNIT-1</td>\n",
       "    </tr>\n",
       "    <tr>\n",
       "      <th>19229</th>\n",
       "      <td>NaN</td>\n",
       "      <td>NaN</td>\n",
       "    </tr>\n",
       "  </tbody>\n",
       "</table>\n",
       "<p>19228 rows × 2 columns</p>\n",
       "</div>"
      ],
      "text/plain": [
       "             Barcode                            ProductName\n",
       "0      6001280500116             JEYES FLUID  500ML  UNIT-1\n",
       "1      6001280500116             JEYES FLUID  500ML  UNIT-1\n",
       "2      6001280501397             JEYES FLUID  500ML  PACK-6\n",
       "3      6001280501397             JEYES FLUID  500ML  PACK-6\n",
       "4      6001206413681          DOOM 300ML SUPER GREEN UNIT-1\n",
       "...              ...                                    ...\n",
       "19225  6001299046667    TROPIKA EAZY 1LT MANGO PEACH PACK-6\n",
       "19226  6004101010139  MAMA'S SAUCES 2LT TOMATO SAUCE UNIT-1\n",
       "19227  6004101010139  MAMA'S SAUCES 2LT TOMATO SAUCE UNIT-1\n",
       "19228  6004101010146  MAMA'S SAUCES 5LT TOMATO SAUCE UNIT-1\n",
       "19229            NaN                                    NaN\n",
       "\n",
       "[19228 rows x 2 columns]"
      ]
     },
     "execution_count": 4,
     "metadata": {},
     "output_type": "execute_result"
    }
   ],
   "source": [
    "columns = ['Barcode', 'ProductName']\n",
    "\n",
    "def unusual_barcodes(df, columns):\n",
    "    barcode_column = \"Barcode\"\n",
    "    if barcode_column not in columns:\n",
    "        raise ValueError(f\"{barcode_column} column not found in DataFrame\")\n",
    "    unusual_barcodes = df[barcode_column][df[barcode_column].astype(str).str.contains('..')]\n",
    "    unusual_df = df[df[barcode_column].isin(unusual_barcodes)]\n",
    "    return unusual_df[columns]\n",
    "\n",
    "unusual = unusual_barcodes(df, columns); unusual"
   ]
  },
  {
   "cell_type": "code",
   "execution_count": 5,
   "metadata": {},
   "outputs": [
    {
     "data": {
      "text/html": [
       "<div>\n",
       "<style scoped>\n",
       "    .dataframe tbody tr th:only-of-type {\n",
       "        vertical-align: middle;\n",
       "    }\n",
       "\n",
       "    .dataframe tbody tr th {\n",
       "        vertical-align: top;\n",
       "    }\n",
       "\n",
       "    .dataframe thead th {\n",
       "        text-align: right;\n",
       "    }\n",
       "</style>\n",
       "<table border=\"1\" class=\"dataframe\">\n",
       "  <thead>\n",
       "    <tr style=\"text-align: right;\">\n",
       "      <th></th>\n",
       "      <th>Barcode</th>\n",
       "      <th>ProductName</th>\n",
       "    </tr>\n",
       "  </thead>\n",
       "  <tbody>\n",
       "    <tr>\n",
       "      <th>0</th>\n",
       "      <td>6001280500116</td>\n",
       "      <td>JEYES FLUID  500ML  UNIT-1</td>\n",
       "    </tr>\n",
       "    <tr>\n",
       "      <th>2</th>\n",
       "      <td>6001280501397</td>\n",
       "      <td>JEYES FLUID  500ML  PACK-6</td>\n",
       "    </tr>\n",
       "    <tr>\n",
       "      <th>4</th>\n",
       "      <td>6001206413681</td>\n",
       "      <td>DOOM 300ML SUPER GREEN UNIT-1</td>\n",
       "    </tr>\n",
       "    <tr>\n",
       "      <th>6</th>\n",
       "      <td>16001206413688</td>\n",
       "      <td>DOOM 300ML SUPER GREEN PACK-6</td>\n",
       "    </tr>\n",
       "    <tr>\n",
       "      <th>8</th>\n",
       "      <td>6009523600203</td>\n",
       "      <td>DOOM BLUE DEATH 100G   UNIT-1</td>\n",
       "    </tr>\n",
       "    <tr>\n",
       "      <th>...</th>\n",
       "      <td>...</td>\n",
       "      <td>...</td>\n",
       "    </tr>\n",
       "    <tr>\n",
       "      <th>19170</th>\n",
       "      <td>8714789762876</td>\n",
       "      <td>SANEX R/ON FEMALE INVISIBLE DRY UNIT-1</td>\n",
       "    </tr>\n",
       "    <tr>\n",
       "      <th>19175</th>\n",
       "      <td>48714789074311</td>\n",
       "      <td>SANEX R/ON MEN SENSITIVE PACK-6</td>\n",
       "    </tr>\n",
       "    <tr>\n",
       "      <th>19188</th>\n",
       "      <td>3607347415589</td>\n",
       "      <td>ADIDAS ROLL ON 50ML FRESH LADIES UNIT-1</td>\n",
       "    </tr>\n",
       "    <tr>\n",
       "      <th>19224</th>\n",
       "      <td>6001299046667</td>\n",
       "      <td>TROPIKA EAZY 1LT MANGO PEACH PACK-6</td>\n",
       "    </tr>\n",
       "    <tr>\n",
       "      <th>19229</th>\n",
       "      <td>NaN</td>\n",
       "      <td>NaN</td>\n",
       "    </tr>\n",
       "  </tbody>\n",
       "</table>\n",
       "<p>4177 rows × 2 columns</p>\n",
       "</div>"
      ],
      "text/plain": [
       "              Barcode                              ProductName\n",
       "0       6001280500116               JEYES FLUID  500ML  UNIT-1\n",
       "2       6001280501397               JEYES FLUID  500ML  PACK-6\n",
       "4       6001206413681            DOOM 300ML SUPER GREEN UNIT-1\n",
       "6      16001206413688            DOOM 300ML SUPER GREEN PACK-6\n",
       "8       6009523600203            DOOM BLUE DEATH 100G   UNIT-1\n",
       "...               ...                                      ...\n",
       "19170   8714789762876   SANEX R/ON FEMALE INVISIBLE DRY UNIT-1\n",
       "19175  48714789074311          SANEX R/ON MEN SENSITIVE PACK-6\n",
       "19188   3607347415589  ADIDAS ROLL ON 50ML FRESH LADIES UNIT-1\n",
       "19224   6001299046667      TROPIKA EAZY 1LT MANGO PEACH PACK-6\n",
       "19229             NaN                                      NaN\n",
       "\n",
       "[4177 rows x 2 columns]"
      ]
     },
     "execution_count": 5,
     "metadata": {},
     "output_type": "execute_result"
    }
   ],
   "source": [
    "unique_barcodes_df = unusual[['Barcode', 'ProductName']].drop_duplicates(); unique_barcodes_df"
   ]
  },
  {
   "cell_type": "code",
   "execution_count": 6,
   "metadata": {
    "notebookRunGroups": {
     "groupValue": ""
    }
   },
   "outputs": [],
   "source": [
    "unusual.to_excel(\"C:\\\\Users\\\\tsello01\\\\Documents\\\\Data\\\\unusual_barcodes.xlsx\", index=False)"
   ]
  }
 ],
 "metadata": {
  "kernelspec": {
   "display_name": "base",
   "language": "python",
   "name": "python3"
  },
  "language_info": {
   "codemirror_mode": {
    "name": "ipython",
    "version": 3
   },
   "file_extension": ".py",
   "mimetype": "text/x-python",
   "name": "python",
   "nbconvert_exporter": "python",
   "pygments_lexer": "ipython3",
   "version": "3.10.9"
  },
  "orig_nbformat": 4
 },
 "nbformat": 4,
 "nbformat_minor": 2
}
