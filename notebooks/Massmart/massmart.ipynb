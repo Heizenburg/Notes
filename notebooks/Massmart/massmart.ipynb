{
 "cells": [
  {
   "cell_type": "code",
   "execution_count": null,
   "metadata": {},
   "outputs": [],
   "source": [
    "import pysftp\n",
    "import datetime"
   ]
  },
  {
   "cell_type": "code",
   "execution_count": null,
   "metadata": {},
   "outputs": [],
   "source": [
    "class SFTPDownloader:\n",
    "    def __init__(self, host, username, password, port=22):\n",
    "        self.host = host\n",
    "        self.username = username\n",
    "        self.password = password\n",
    "        self.port = port\n",
    "\n",
    "    def download_data(self, remote_folder, local_folder):\n",
    "        cnopts = pysftp.CnOpts()\n",
    "        cnopts.hostkeys = None  # Disable host key checking\n",
    "        with pysftp.Connection(self.host, username=self.username, password=self.password, cnopts=cnopts) as sftp:\n",
    "            self._download_files(sftp, remote_folder, local_folder)\n",
    "\n",
    "    def _download_files(self, sftp, remote_folder, local_folder):\n",
    "        sftp.cwd(remote_folder)\n",
    "        files = sftp.listdir()\n",
    "        for file in files:\n",
    "            file_path = remote_folder + '/' + file\n",
    "            modified_time = sftp.stat(file_path).st_mtime\n",
    "            modified_date = datetime.datetime.fromtimestamp(modified_time)\n",
    "            days_difference = (datetime.datetime.now() - modified_date).days\n",
    "            if days_difference <= 5:\n",
    "                sftp.get(file_path, local_folder + '/' + file)\n",
    "                print(f\"Downloaded {file} from {remote_folder}\")\n",
    "        directories = [file for file in files if sftp.isdir(remote_folder + '/' + file)]\n",
    "        for directory in directories:\n",
    "            self._download_files(sftp, remote_folder + '/' + directory, local_folder + '/' + directory)\n",
    "\n"
   ]
  },
  {
   "cell_type": "code",
   "execution_count": null,
   "metadata": {},
   "outputs": [],
   "source": [
    "# Example usage\n",
    "sftp_downloader = SFTPDownloader('ftps.dataorbis.com', 'adcock', 'ZkAp3kST8NMqdVpwMO3n', 2222)\n",
    "sftp_downloader.download_data('/', r'R:\\RawData\\Massmart Data')"
   ]
  }
 ],
 "metadata": {
  "kernelspec": {
   "display_name": "base",
   "language": "python",
   "name": "python3"
  },
  "language_info": {
   "codemirror_mode": {
    "name": "ipython",
    "version": 3
   },
   "file_extension": ".py",
   "mimetype": "text/x-python",
   "name": "python",
   "nbconvert_exporter": "python",
   "pygments_lexer": "ipython3",
   "version": "3.10.9"
  },
  "orig_nbformat": 4
 },
 "nbformat": 4,
 "nbformat_minor": 2
}
