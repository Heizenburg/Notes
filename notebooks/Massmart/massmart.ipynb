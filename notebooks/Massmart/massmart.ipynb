{
 "cells": [
  {
   "cell_type": "code",
   "execution_count": 32,
   "metadata": {},
   "outputs": [],
   "source": [
    "import pysftp\n",
    "import datetime"
   ]
  },
  {
   "cell_type": "code",
   "execution_count": 33,
   "metadata": {},
   "outputs": [],
   "source": [
    "class SFTPDownloader:\n",
    "    def __init__(self, host, username, password, port=22):\n",
    "        self.host = host\n",
    "        self.username = username\n",
    "        self.password = password\n",
    "        self.port = port\n",
    "\n",
    "    def download_data(self, remote_folder, local_folder):\n",
    "        cnopts = pysftp.CnOpts()\n",
    "        cnopts.hostkeys = None  # Disable host key checking\n",
    "        with pysftp.Connection(self.host, username=self.username, password=self.password, cnopts=cnopts) as sftp:\n",
    "            self._download_files(sftp, remote_folder, local_folder)\n",
    "\n",
    "    def _download_files(self, sftp, remote_folder, local_folder):\n",
    "        sftp.cwd(remote_folder)\n",
    "        files = sftp.listdir()\n",
    "        for file in files:\n",
    "            file_path = remote_folder + '/' + file\n",
    "            modified_time = sftp.stat(file_path).st_mtime\n",
    "            modified_date = datetime.datetime.fromtimestamp(modified_time)\n",
    "            days_difference = (datetime.datetime.now() - modified_date).days\n",
    "            if days_difference <= 5:\n",
    "                sftp.get(file_path, local_folder + '/' + file)\n",
    "                print(f\"Downloaded {file} from {remote_folder}\")\n",
    "        directories = [file for file in files if sftp.isdir(remote_folder + '/' + file)]\n",
    "        for directory in directories:\n",
    "            self._download_files(sftp, remote_folder + '/' + directory, local_folder + '/' + directory)\n",
    "\n"
   ]
  },
  {
   "cell_type": "code",
   "execution_count": 34,
   "metadata": {},
   "outputs": [
    {
     "ename": "ConnectionException",
     "evalue": "('ftps.dataorbis.com', 22)",
     "output_type": "error",
     "traceback": [
      "\u001b[1;31m---------------------------------------------------------------------------\u001b[0m",
      "\u001b[1;31mgaierror\u001b[0m                                  Traceback (most recent call last)",
      "File \u001b[1;32mc:\\Users\\tsello01\\AppData\\Local\\anaconda3\\lib\\site-packages\\pysftp\\__init__.py:176\u001b[0m, in \u001b[0;36mConnection._start_transport\u001b[1;34m(self, host, port)\u001b[0m\n\u001b[0;32m    175\u001b[0m \u001b[39mtry\u001b[39;00m:\n\u001b[1;32m--> 176\u001b[0m     \u001b[39mself\u001b[39m\u001b[39m.\u001b[39m_transport \u001b[39m=\u001b[39m paramiko\u001b[39m.\u001b[39;49mTransport((host, port))\n\u001b[0;32m    177\u001b[0m     \u001b[39m# Set security ciphers if set\u001b[39;00m\n",
      "File \u001b[1;32mc:\\Users\\tsello01\\AppData\\Local\\anaconda3\\lib\\site-packages\\paramiko\\transport.py:400\u001b[0m, in \u001b[0;36mTransport.__init__\u001b[1;34m(self, sock, default_window_size, default_max_packet_size, gss_kex, gss_deleg_creds, disabled_algorithms)\u001b[0m\n\u001b[0;32m    399\u001b[0m reason \u001b[39m=\u001b[39m \u001b[39m\"\u001b[39m\u001b[39mNo suitable address family\u001b[39m\u001b[39m\"\u001b[39m\n\u001b[1;32m--> 400\u001b[0m addrinfos \u001b[39m=\u001b[39m socket\u001b[39m.\u001b[39;49mgetaddrinfo(\n\u001b[0;32m    401\u001b[0m     hostname, port, socket\u001b[39m.\u001b[39;49mAF_UNSPEC, socket\u001b[39m.\u001b[39;49mSOCK_STREAM\n\u001b[0;32m    402\u001b[0m )\n\u001b[0;32m    403\u001b[0m \u001b[39mfor\u001b[39;00m family, socktype, proto, canonname, sockaddr \u001b[39min\u001b[39;00m addrinfos:\n",
      "File \u001b[1;32mc:\\Users\\tsello01\\AppData\\Local\\anaconda3\\lib\\socket.py:955\u001b[0m, in \u001b[0;36mgetaddrinfo\u001b[1;34m(host, port, family, type, proto, flags)\u001b[0m\n\u001b[0;32m    954\u001b[0m addrlist \u001b[39m=\u001b[39m []\n\u001b[1;32m--> 955\u001b[0m \u001b[39mfor\u001b[39;00m res \u001b[39min\u001b[39;00m _socket\u001b[39m.\u001b[39;49mgetaddrinfo(host, port, family, \u001b[39mtype\u001b[39;49m, proto, flags):\n\u001b[0;32m    956\u001b[0m     af, socktype, proto, canonname, sa \u001b[39m=\u001b[39m res\n",
      "\u001b[1;31mgaierror\u001b[0m: [Errno 11001] getaddrinfo failed",
      "\nDuring handling of the above exception, another exception occurred:\n",
      "\u001b[1;31mConnectionException\u001b[0m                       Traceback (most recent call last)",
      "Cell \u001b[1;32mIn[34], line 3\u001b[0m\n\u001b[0;32m      1\u001b[0m \u001b[39m# Example usage\u001b[39;00m\n\u001b[0;32m      2\u001b[0m sftp_downloader \u001b[39m=\u001b[39m SFTPDownloader(\u001b[39m'\u001b[39m\u001b[39mftps.dataorbis.com\u001b[39m\u001b[39m'\u001b[39m, \u001b[39m'\u001b[39m\u001b[39madcock\u001b[39m\u001b[39m'\u001b[39m, \u001b[39m'\u001b[39m\u001b[39mZkAp3kST8NMqdVpwMO3n\u001b[39m\u001b[39m'\u001b[39m, \u001b[39m2222\u001b[39m)\n\u001b[1;32m----> 3\u001b[0m sftp_downloader\u001b[39m.\u001b[39;49mdownload_data(\u001b[39m'\u001b[39;49m\u001b[39m/\u001b[39;49m\u001b[39m'\u001b[39;49m, \u001b[39mr\u001b[39;49m\u001b[39m'\u001b[39;49m\u001b[39mQ:\u001b[39;49m\u001b[39m\\\u001b[39;49m\u001b[39mManufacturer Services\u001b[39;49m\u001b[39m\\\u001b[39;49m\u001b[39mGeneral\u001b[39;49m\u001b[39m\\\u001b[39;49m\u001b[39mThato\u001b[39;49m\u001b[39m'\u001b[39;49m)\n",
      "Cell \u001b[1;32mIn[33], line 11\u001b[0m, in \u001b[0;36mSFTPDownloader.download_data\u001b[1;34m(self, remote_folder, local_folder)\u001b[0m\n\u001b[0;32m      9\u001b[0m cnopts \u001b[39m=\u001b[39m pysftp\u001b[39m.\u001b[39mCnOpts()\n\u001b[0;32m     10\u001b[0m cnopts\u001b[39m.\u001b[39mhostkeys \u001b[39m=\u001b[39m \u001b[39mNone\u001b[39;00m  \u001b[39m# Disable host key checking\u001b[39;00m\n\u001b[1;32m---> 11\u001b[0m \u001b[39mwith\u001b[39;00m pysftp\u001b[39m.\u001b[39;49mConnection(\u001b[39mself\u001b[39;49m\u001b[39m.\u001b[39;49mhost, username\u001b[39m=\u001b[39;49m\u001b[39mself\u001b[39;49m\u001b[39m.\u001b[39;49musername, password\u001b[39m=\u001b[39;49m\u001b[39mself\u001b[39;49m\u001b[39m.\u001b[39;49mpassword, cnopts\u001b[39m=\u001b[39;49mcnopts) \u001b[39mas\u001b[39;00m sftp:\n\u001b[0;32m     12\u001b[0m     \u001b[39mself\u001b[39m\u001b[39m.\u001b[39m_download_files(sftp, remote_folder, local_folder)\n",
      "File \u001b[1;32mc:\\Users\\tsello01\\AppData\\Local\\anaconda3\\lib\\site-packages\\pysftp\\__init__.py:140\u001b[0m, in \u001b[0;36mConnection.__init__\u001b[1;34m(self, host, username, private_key, password, port, private_key_pass, ciphers, log, cnopts, default_path)\u001b[0m\n\u001b[0;32m    138\u001b[0m \u001b[39m# Begin the SSH transport.\u001b[39;00m\n\u001b[0;32m    139\u001b[0m \u001b[39mself\u001b[39m\u001b[39m.\u001b[39m_transport \u001b[39m=\u001b[39m \u001b[39mNone\u001b[39;00m\n\u001b[1;32m--> 140\u001b[0m \u001b[39mself\u001b[39;49m\u001b[39m.\u001b[39;49m_start_transport(host, port)\n\u001b[0;32m    141\u001b[0m \u001b[39mself\u001b[39m\u001b[39m.\u001b[39m_transport\u001b[39m.\u001b[39muse_compression(\u001b[39mself\u001b[39m\u001b[39m.\u001b[39m_cnopts\u001b[39m.\u001b[39mcompression)\n\u001b[0;32m    142\u001b[0m \u001b[39mself\u001b[39m\u001b[39m.\u001b[39m_set_authentication(password, private_key, private_key_pass)\n",
      "File \u001b[1;32mc:\\Users\\tsello01\\AppData\\Local\\anaconda3\\lib\\site-packages\\pysftp\\__init__.py:183\u001b[0m, in \u001b[0;36mConnection._start_transport\u001b[1;34m(self, host, port)\u001b[0m\n\u001b[0;32m    180\u001b[0m         \u001b[39mself\u001b[39m\u001b[39m.\u001b[39m_transport\u001b[39m.\u001b[39mget_security_options()\u001b[39m.\u001b[39mciphers \u001b[39m=\u001b[39m ciphers\n\u001b[0;32m    181\u001b[0m \u001b[39mexcept\u001b[39;00m (\u001b[39mAttributeError\u001b[39;00m, socket\u001b[39m.\u001b[39mgaierror):\n\u001b[0;32m    182\u001b[0m     \u001b[39m# couldn't connect\u001b[39;00m\n\u001b[1;32m--> 183\u001b[0m     \u001b[39mraise\u001b[39;00m ConnectionException(host, port)\n",
      "\u001b[1;31mConnectionException\u001b[0m: ('ftps.dataorbis.com', 22)"
     ]
    }
   ],
   "source": [
    "# Example usage\n",
    "sftp_downloader = SFTPDownloader('ftps.dataorbis.com', 'adcock', 'ZkAp3kST8NMqdVpwMO3n', 2222)\n",
    "sftp_downloader.download_data('/', r'Q:\\Manufacturer Services\\General\\Thato')"
   ]
  }
 ],
 "metadata": {
  "kernelspec": {
   "display_name": "base",
   "language": "python",
   "name": "python3"
  },
  "language_info": {
   "codemirror_mode": {
    "name": "ipython",
    "version": 3
   },
   "file_extension": ".py",
   "mimetype": "text/x-python",
   "name": "python",
   "nbconvert_exporter": "python",
   "pygments_lexer": "ipython3",
   "version": "3.10.9"
  },
  "orig_nbformat": 4
 },
 "nbformat": 4,
 "nbformat_minor": 2
}
