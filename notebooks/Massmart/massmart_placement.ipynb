{
 "cells": [
  {
   "cell_type": "code",
   "execution_count": 7,
   "metadata": {},
   "outputs": [],
   "source": [
    "from ftplib import FTP\n",
    "\n",
    "import os\n",
    "import shutil\n",
    "import pandas as pd\n",
    "import time"
   ]
  },
  {
   "cell_type": "code",
   "execution_count": 8,
   "metadata": {},
   "outputs": [],
   "source": [
    "source_folder = r'R:\\RawData\\Massmart Data'"
   ]
  },
  {
   "cell_type": "code",
   "execution_count": 9,
   "metadata": {},
   "outputs": [],
   "source": [
    "parameters = [\n",
    "    {'target_dir': r'R:\\RawData\\Masscash\\\\Wholesale\\ToUpload',   'keyword': 'MassCashWholesale'},\n",
    "    {'target_dir': r'R:\\RawData\\Masscash\\Retail\\ToUpload',       'keyword': 'MassCashRetail'},\n",
    "    {'target_dir': r'R:\\RawData\\Makro Updated\\\\ToUpload',        'keyword': 'Makro'},\n",
    "    {'target_dir': r'R:\\RawData\\Game\\ToUpload',                  'keyword': 'MassDiscounters'},\n",
    "    {'target_dir': r'R:\\RawData\\KitKat\\ToUpload',                'keyword': 'KitKat'},\n",
    "    {'target_dir': r'R:\\RawData\\Massbuild\\ToUpload',             'keyword': 'Massbuild'}\n",
    "]"
   ]
  },
  {
   "cell_type": "code",
   "execution_count": 10,
   "metadata": {},
   "outputs": [],
   "source": [
    "def move_files_based_on_keyword(source_dir, target_dir, keyword):\n",
    "    moved_files = []\n",
    "\n",
    "    files = os.listdir(source_dir)\n",
    "\n",
    "    for file in files:\n",
    "        if keyword in file:\n",
    "            source = os.path.join(source_dir, file)\n",
    "            target = os.path.join(target_dir, file)\n",
    "\n",
    "            shutil.move(source, target)\n",
    "\n",
    "            # Add the file and its new location to the list\n",
    "            moved_files.append({'File': file, 'New Location': target})\n",
    "\n",
    "    df = pd.DataFrame(moved_files)\n",
    "\n",
    "    return df"
   ]
  },
  {
   "cell_type": "code",
   "execution_count": 11,
   "metadata": {},
   "outputs": [],
   "source": [
    "max_inactive_time = 60 * 5"
   ]
  },
  {
   "cell_type": "code",
   "execution_count": 12,
   "metadata": {},
   "outputs": [
    {
     "name": "stdout",
     "output_type": "stream",
     "text": [
      "                                    File  \\\n",
      "0     GSKSA_KitKat_Delta_WE_20230910.txt   \n",
      "1     GSKSA_KitKat_Delta_WE_20230917.txt   \n",
      "2     GSKSA_KitKat_Delta_WE_20230924.txt   \n",
      "3           GSKSA_KitKat_WE_20231001.txt   \n",
      "4  RhodesSA_KitKat_Delta_WE_20230910.txt   \n",
      "5  RhodesSA_KitKat_Delta_WE_20230917.txt   \n",
      "6  RhodesSA_KitKat_Delta_WE_20230924.txt   \n",
      "7        RhodesSA_KitKat_WE_20231001.txt   \n",
      "8         TigerSA_KitKat_WE_20231001.txt   \n",
      "\n",
      "                                        New Location  \n",
      "0  R:\\RawData\\KitKat\\ToUpload\\GSKSA_KitKat_Delta_...  \n",
      "1  R:\\RawData\\KitKat\\ToUpload\\GSKSA_KitKat_Delta_...  \n",
      "2  R:\\RawData\\KitKat\\ToUpload\\GSKSA_KitKat_Delta_...  \n",
      "3  R:\\RawData\\KitKat\\ToUpload\\GSKSA_KitKat_WE_202...  \n",
      "4  R:\\RawData\\KitKat\\ToUpload\\RhodesSA_KitKat_Del...  \n",
      "5  R:\\RawData\\KitKat\\ToUpload\\RhodesSA_KitKat_Del...  \n",
      "6  R:\\RawData\\KitKat\\ToUpload\\RhodesSA_KitKat_Del...  \n",
      "7  R:\\RawData\\KitKat\\ToUpload\\RhodesSA_KitKat_WE_...  \n",
      "8  R:\\RawData\\KitKat\\ToUpload\\TigerSA_KitKat_WE_2...  \n",
      "No new files detected for the past 5 minutes. Terminating script.\n"
     ]
    }
   ],
   "source": [
    "def monitor_files(parameters, source_folder, max_inactive_time):\n",
    "    last_active_time = time.time()\n",
    "    \n",
    "    while True:\n",
    "        new_files_detected = False\n",
    "\n",
    "        for params in parameters:\n",
    "            df = move_files_based_on_keyword(source_folder, params['target_dir'], params['keyword'])\n",
    "            if not df.empty:\n",
    "                last_active_time = time.time()\n",
    "                print(df)\n",
    "                new_files_detected = True\n",
    "\n",
    "        inactive_time = time.time() - last_active_time\n",
    "\n",
    "        if inactive_time >= max_inactive_time:\n",
    "            print(f\"No new files detected for the past {int(max_inactive_time/60)} minutes. Terminating script.\")\n",
    "            break\n",
    "\n",
    "        time.sleep(10)\n",
    "\n",
    "monitor_files(parameters, source_folder, max_inactive_time)\n"
   ]
  }
 ],
 "metadata": {
  "kernelspec": {
   "display_name": "base",
   "language": "python",
   "name": "python3"
  },
  "language_info": {
   "codemirror_mode": {
    "name": "ipython",
    "version": 3
   },
   "file_extension": ".py",
   "mimetype": "text/x-python",
   "name": "python",
   "nbconvert_exporter": "python",
   "pygments_lexer": "ipython3",
   "version": "3.10.9"
  },
  "orig_nbformat": 4
 },
 "nbformat": 4,
 "nbformat_minor": 2
}
