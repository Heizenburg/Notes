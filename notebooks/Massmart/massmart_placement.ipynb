{
 "cells": [
  {
   "cell_type": "code",
   "execution_count": null,
   "metadata": {},
   "outputs": [],
   "source": [
    "import os\n",
    "import shutil\n",
    "import pandas as pd\n",
    "import time"
   ]
  },
  {
   "cell_type": "code",
   "execution_count": null,
   "metadata": {},
   "outputs": [],
   "source": [
    "parameters = [\n",
    "    {'target_dir': r'R:\\RawData\\Game\\ToUpload',                  'keyword': 'MassDiscounters'},\n",
    "    {'target_dir': r'R:\\RawData\\Makro Updated\\ToUpload',         'keyword': 'Makro'},\n",
    "    {'target_dir': r'R:\\RawData\\KitKat\\ToUpload',                'keyword': 'KitKat'},\n",
    "    {'target_dir': r'R:\\RawData\\Masscash\\Retail\\ToUpload',       'keyword': 'MassCashRetail'},\n",
    "    {'target_dir': 'R:\\\\RawData\\\\Masscash\\\\Wholesale\\\\ToUpload', 'keyword': 'MassCashWholesale'}\n",
    "]"
   ]
  },
  {
   "cell_type": "code",
   "execution_count": null,
   "metadata": {},
   "outputs": [],
   "source": [
    "def move_files_based_on_keyword(source_dir, target_dir, keyword):\n",
    "    moved_files = []\n",
    "\n",
    "    # List all files in the source directory\n",
    "    files = os.listdir(source_dir)\n",
    "\n",
    "    # Iterate over each file\n",
    "    for file in files:\n",
    "        # Check if the keyword is in the filename\n",
    "        if keyword in file:\n",
    "            # Construct full file paths\n",
    "            source = os.path.join(source_dir, file)\n",
    "            target = os.path.join(target_dir, file)\n",
    "\n",
    "            shutil.move(source, target)\n",
    "\n",
    "            # Add the file and its new location to the list\n",
    "            moved_files.append({'File': file, 'New Location': target})\n",
    "\n",
    "    # Create a DataFrame from the list\n",
    "    df = pd.DataFrame(moved_files)\n",
    "\n",
    "    return df"
   ]
  },
  {
   "cell_type": "code",
   "execution_count": null,
   "metadata": {},
   "outputs": [],
   "source": [
    "source_folder = r'R:\\RawData\\Massmart Data'"
   ]
  },
  {
   "cell_type": "code",
   "execution_count": null,
   "metadata": {},
   "outputs": [],
   "source": [
    "last_active_time = time.time()  # timestamp of the last file found\n",
    "max_inactive_time = 60 * 2  # maximum allowed inactive time (2 minutes)"
   ]
  },
  {
   "cell_type": "code",
   "execution_count": null,
   "metadata": {},
   "outputs": [],
   "source": [
    "while True:\n",
    "    for params in parameters:\n",
    "        df = move_files_based_on_keyword(source_folder, params['target_dir'], params['keyword'])\n",
    "        if not df.empty:\n",
    "            last_active_time = time.time()  # update the timestamp\n",
    "            print(df)\n",
    "\n",
    "    inactive_time = time.time() - last_active_time  # calculate the inactive time\n",
    "\n",
    "    if inactive_time >= max_inactive_time:\n",
    "        print(f\"No new files detected for the past {max_inactive_time/60} minutes. Terminating script.\")\n",
    "        break\n",
    "\n",
    "    time.sleep(10)  # wait for 10 seconds before checking again"
   ]
  }
 ],
 "metadata": {
  "kernelspec": {
   "display_name": "base",
   "language": "python",
   "name": "python3"
  },
  "language_info": {
   "codemirror_mode": {
    "name": "ipython",
    "version": 3
   },
   "file_extension": ".py",
   "mimetype": "text/x-python",
   "name": "python",
   "nbconvert_exporter": "python",
   "pygments_lexer": "ipython3",
   "version": "3.10.9"
  },
  "orig_nbformat": 4
 },
 "nbformat": 4,
 "nbformat_minor": 2
}
