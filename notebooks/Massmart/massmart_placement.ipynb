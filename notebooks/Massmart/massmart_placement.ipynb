{
 "cells": [
  {
   "cell_type": "code",
   "execution_count": 3,
   "metadata": {},
   "outputs": [
    {
     "name": "stdout",
     "output_type": "stream",
     "text": [
      "Moved SANULAC_MassCashWholesale_Delta_WE_20231105.txt to R:\\RawData\\Masscash\\\\Wholesale\\ToUpload\\SANULAC_MassCashWholesale_Delta_WE_20231105.txt\n",
      "Moved SANULAC_MassCashWholesale_WE_20231112.txt to R:\\RawData\\Masscash\\\\Wholesale\\ToUpload\\SANULAC_MassCashWholesale_WE_20231112.txt\n",
      "Moved Tiger_MassCashWholesale_Delta_WE_20231105.txt to R:\\RawData\\Masscash\\\\Wholesale\\ToUpload\\Tiger_MassCashWholesale_Delta_WE_20231105.txt\n",
      "Moved Tiger_MassCashWholesale_WE_20231112.txt to R:\\RawData\\Masscash\\\\Wholesale\\ToUpload\\Tiger_MassCashWholesale_WE_20231112.txt\n",
      "Moved Vinimark_MassCashWholesale_Delta_WE_20231105.txt to R:\\RawData\\Masscash\\\\Wholesale\\ToUpload\\Vinimark_MassCashWholesale_Delta_WE_20231105.txt\n",
      "Moved Vinimark_MassCashWholesale_WE_20231112.txt to R:\\RawData\\Masscash\\\\Wholesale\\ToUpload\\Vinimark_MassCashWholesale_WE_20231112.txt\n",
      "Moved Tiger_MassCashRetail_Delta_WE_20231105.txt to R:\\RawData\\Masscash\\Retail\\ToUpload\\Tiger_MassCashRetail_Delta_WE_20231105.txt\n",
      "Moved Tiger_MassCashRetail_WE_20231112.txt to R:\\RawData\\Masscash\\Retail\\ToUpload\\Tiger_MassCashRetail_WE_20231112.txt\n",
      "Moved VinimarkSA_MassCashRetail_Delta_WE_20231105.txt to R:\\RawData\\Masscash\\Retail\\ToUpload\\VinimarkSA_MassCashRetail_Delta_WE_20231105.txt\n",
      "Moved VinimarkSA_MassCashRetail_WE_20231112.txt to R:\\RawData\\Masscash\\Retail\\ToUpload\\VinimarkSA_MassCashRetail_WE_20231112.txt\n",
      "Moved VinimarkSA_Makro_Delta_WE_20231105.txt to R:\\RawData\\Makro Updated\\\\ToUpload\\VinimarkSA_Makro_Delta_WE_20231105.txt\n",
      "Moved VinimarkSA_Makro_WE_20231112.txt to R:\\RawData\\Makro Updated\\\\ToUpload\\VinimarkSA_Makro_WE_20231112.txt\n",
      "Monitoring R:\\RawData\\Massmart Data for new files...\n",
      "Moved SANULACSA_MassDiscounters_Delta_WE_20231105.txt to R:\\RawData\\Game\\ToUpload\\SANULACSA_MassDiscounters_Delta_WE_20231105.txt\n",
      "Moved SANULACSA_MassDiscounters_WE_20231112.txt to R:\\RawData\\Game\\ToUpload\\SANULACSA_MassDiscounters_WE_20231112.txt\n",
      "No new files detected for the past 5 minutes. Terminating script.\n"
     ]
    }
   ],
   "source": [
    "import os\n",
    "import shutil\n",
    "import pandas as pd\n",
    "import time\n",
    "from watchdog.observers import Observer\n",
    "from watchdog.events import FileSystemEventHandler\n",
    "\n",
    "source_folder = r'R:\\RawData\\Massmart Data'\n",
    "parameters = [\n",
    "    {'target_dir': r'R:\\RawData\\Masscash\\\\Wholesale\\ToUpload',   'keyword': 'MassCashWholesale'},\n",
    "    {'target_dir': r'R:\\RawData\\Masscash\\Retail\\ToUpload',       'keyword': 'MassCashRetail'},\n",
    "    {'target_dir': r'R:\\RawData\\Makro Updated\\\\ToUpload',        'keyword': 'Makro'},\n",
    "    {'target_dir': r'R:\\RawData\\Game\\ToUpload',                  'keyword': 'MassDiscounters'},\n",
    "    {'target_dir': r'R:\\RawData\\KitKat\\ToUpload',                'keyword': 'KitKat'},\n",
    "    {'target_dir': r'R:\\RawData\\Massbuild\\ToUpload',             'keyword': 'Massbuild'}\n",
    "]\n",
    "\n",
    "class MyHandler(FileSystemEventHandler):\n",
    "    def __init__(self, source_dir, parameters):\n",
    "        self.source_dir = source_dir\n",
    "        self.parameters = parameters\n",
    "\n",
    "    def on_created(self, event):\n",
    "        for params in self.parameters:\n",
    "            if params['keyword'] in event.src_path:\n",
    "                move_files_based_on_keyword(self.source_dir, params['target_dir'], params['keyword'])\n",
    "\n",
    "def move_files_based_on_keyword(source_dir, target_dir, keyword):\n",
    "    for file in os.listdir(source_dir):\n",
    "        if keyword in file:\n",
    "            source = os.path.join(source_dir, file)\n",
    "            destination = os.path.join(target_dir, file)\n",
    "            shutil.move(source, destination)\n",
    "            print(f\"Moved {file} to {destination}\")\n",
    "            \n",
    "def monitor_files(source_folder, parameters, max_inactive_time):\n",
    "    for params in parameters:\n",
    "        move_files_based_on_keyword(source_folder, params['target_dir'], params['keyword'])\n",
    "\n",
    "    event_handler = MyHandler(source_folder, parameters)\n",
    "    observer = Observer()\n",
    "    observer.schedule(event_handler, source_folder, recursive=True)\n",
    "    observer.start()\n",
    "\n",
    "    try:\n",
    "        print(f\"Monitoring {source_folder} for new files...\")\n",
    "        start_time = time.time()\n",
    "        while True:\n",
    "            if time.time() - start_time >= max_inactive_time:\n",
    "                print(f\"No new files detected for the past {int(max_inactive_time/60)} minutes. Terminating script.\")\n",
    "                observer.stop()\n",
    "                break\n",
    "\n",
    "            time.sleep(10)\n",
    "    except KeyboardInterrupt:\n",
    "        observer.stop()\n",
    "    observer.join()\n",
    "\n",
    "monitor_files(source_folder, parameters, 60 * 5)"
   ]
  }
 ],
 "metadata": {
  "kernelspec": {
   "display_name": "base",
   "language": "python",
   "name": "python3"
  },
  "language_info": {
   "codemirror_mode": {
    "name": "ipython",
    "version": 3
   },
   "file_extension": ".py",
   "mimetype": "text/x-python",
   "name": "python",
   "nbconvert_exporter": "python",
   "pygments_lexer": "ipython3",
   "version": "3.10.9"
  },
  "orig_nbformat": 4
 },
 "nbformat": 4,
 "nbformat_minor": 2
}
