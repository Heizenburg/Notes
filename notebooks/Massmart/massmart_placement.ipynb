{
 "cells": [
  {
   "cell_type": "code",
   "execution_count": 25,
   "metadata": {},
   "outputs": [],
   "source": [
    "from ftplib import FTP\n",
    "\n",
    "import os\n",
    "import shutil\n",
    "import pandas as pd\n",
    "import time"
   ]
  },
  {
   "cell_type": "code",
   "execution_count": 26,
   "metadata": {},
   "outputs": [],
   "source": [
    "parameters = [\n",
    "    {'target_dir': r'R:\\RawData\\Game\\ToUpload',                  'keyword': 'MassDiscounters'},\n",
    "    {'target_dir': r'R:\\RawData\\Makro Updated\\\\ToUpload',        'keyword': 'Makro'},\n",
    "    {'target_dir': r'R:\\RawData\\KitKat\\ToUpload',                'keyword': 'KitKat'},\n",
    "    {'target_dir': r'R:\\RawData\\Masscash\\Retail\\ToUpload',       'keyword': 'MassCashRetail'},\n",
    "    {'target_dir': r'R:\\RawData\\Masscash\\\\Wholesale\\ToUpload',   'keyword': 'MassCashWholesale'}\n",
    "]"
   ]
  },
  {
   "cell_type": "code",
   "execution_count": 27,
   "metadata": {},
   "outputs": [],
   "source": [
    "def move_files_based_on_keyword(source_dir, target_dir, keyword):\n",
    "    moved_files = []\n",
    "\n",
    "    files = os.listdir(source_dir)\n",
    "\n",
    "    for file in files:\n",
    "        if keyword in file:\n",
    "            source = os.path.join(source_dir, file)\n",
    "            target = os.path.join(target_dir, file)\n",
    "\n",
    "            shutil.move(source, target)\n",
    "\n",
    "            # Add the file and its new location to the list\n",
    "            moved_files.append({'File': file, 'New Location': target})\n",
    "\n",
    "    df = pd.DataFrame(moved_files)\n",
    "\n",
    "    return df"
   ]
  },
  {
   "cell_type": "code",
   "execution_count": 28,
   "metadata": {},
   "outputs": [],
   "source": [
    "source_folder = r'R:\\RawData\\Massmart Data'"
   ]
  },
  {
   "cell_type": "code",
   "execution_count": 29,
   "metadata": {},
   "outputs": [],
   "source": [
    "last_active_time = time.time() \n",
    "max_inactive_time = 60 * 2 "
   ]
  },
  {
   "cell_type": "code",
   "execution_count": 30,
   "metadata": {},
   "outputs": [
    {
     "name": "stdout",
     "output_type": "stream",
     "text": [
      "                                            File  \\\n",
      "0  PandGSA_MassDiscounters_Delta_WE_20230730.txt   \n",
      "1        PandGSA_MassDiscounters_WE_20230806.txt   \n",
      "\n",
      "                                        New Location  \n",
      "0  R:\\RawData\\Game\\ToUpload\\PandGSA_MassDiscounte...  \n",
      "1  R:\\RawData\\Game\\ToUpload\\PandGSA_MassDiscounte...  \n",
      "                                File  \\\n",
      "0  PandG_Makro_Delta_WE_20230730.txt   \n",
      "1        PandG_Makro_WE_20230806.txt   \n",
      "\n",
      "                                        New Location  \n",
      "0  R:\\RawData\\Makro Updated\\\\ToUpload\\PandG_Makro...  \n",
      "1  R:\\RawData\\Makro Updated\\\\ToUpload\\PandG_Makro...  \n",
      "No new files detected for the past 2 minutes. Terminating script.\n"
     ]
    }
   ],
   "source": [
    "while True:\n",
    "    for params in parameters:\n",
    "        df = move_files_based_on_keyword(source_folder, params['target_dir'], params['keyword'])\n",
    "        if not df.empty:\n",
    "            last_active_time = time.time() \n",
    "            print(df)\n",
    "\n",
    "    inactive_time = time.time() - last_active_time  # calculate the inactive time\n",
    "\n",
    "    if inactive_time >= max_inactive_time:\n",
    "        print(f\"No new files detected for the past {int(max_inactive_time/60)} minutes. Terminating script.\")\n",
    "        break\n",
    "\n",
    "    time.sleep(10)  # wait for 10 seconds before checking again"
   ]
  }
 ],
 "metadata": {
  "kernelspec": {
   "display_name": "base",
   "language": "python",
   "name": "python3"
  },
  "language_info": {
   "codemirror_mode": {
    "name": "ipython",
    "version": 3
   },
   "file_extension": ".py",
   "mimetype": "text/x-python",
   "name": "python",
   "nbconvert_exporter": "python",
   "pygments_lexer": "ipython3",
   "version": "3.10.9"
  },
  "orig_nbformat": 4
 },
 "nbformat": 4,
 "nbformat_minor": 2
}
