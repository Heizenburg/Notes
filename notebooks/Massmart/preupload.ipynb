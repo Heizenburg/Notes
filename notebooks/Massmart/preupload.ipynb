{
 "cells": [
  {
   "cell_type": "code",
   "execution_count": null,
   "metadata": {},
   "outputs": [],
   "source": [
    "import os\n",
    "import pandas as pd\n",
    "\n",
    "folder_path = r'R:\\RawData\\Game\\ToUpload\\\\back data files with issues'  # Replace with the actual folder path\n",
    "\n",
    "column_headers = ['EndDate', 'StartDate', 'PlantCode', 'PlantName', 'City', 'Region', 'Country', 'SiteTypeCode',\n",
    "                  'SaleType', 'VendorCode', 'VendorName', 'MaterialCode', 'MaterialDescription', 'BaseUOM', 'Barcode',\n",
    "                  'ModelNumber', 'SellingUnitOfMeasure', 'ComponentsInBUOM', 'ComponentsInSUOM', 'BrandCode',\n",
    "                  'BrandDescription', 'DivisionCode', 'DivisionDescription', 'GroupCode', 'GroupDescription',\n",
    "                  'DepartmentCode', 'DepartmentDescription', 'CategoryCode', 'CategoryDescription', 'BMCCode',\n",
    "                  'BMCDescription', 'Quantity', 'ValueExcl', 'VAT', 'LoadDate', 'IsDelta']\n",
    "\n",
    "def check_column_headers(file_path):\n",
    "    try:\n",
    "        df = pd.read_csv(file_path)\n",
    "        headers = df.columns.tolist()\n",
    "        for header in column_headers:\n",
    "            if header not in headers:\n",
    "                return False\n",
    "        return True\n",
    "    except pd.errors.ParserError:\n",
    "        return False\n",
    "\n",
    "files_with_issues = []\n",
    "\n",
    "for filename in os.listdir(folder_path):\n",
    "    if os.path.isfile(os.path.join(folder_path, filename)):\n",
    "        file_path = os.path.join(folder_path, filename)\n",
    "        if not check_column_headers(file_path):\n",
    "            files_with_issues.append(filename)\n",
    "\n",
    "print(\"Files with missing column headers:\")\n",
    "for file in files_with_issues:\n",
    "    print(file)\n"
   ]
  }
 ],
 "metadata": {
  "kernelspec": {
   "display_name": "base",
   "language": "python",
   "name": "python3"
  },
  "language_info": {
   "codemirror_mode": {
    "name": "ipython",
    "version": 3
   },
   "file_extension": ".py",
   "mimetype": "text/x-python",
   "name": "python",
   "nbconvert_exporter": "python",
   "pygments_lexer": "ipython3",
   "version": "3.10.9"
  }
 },
 "nbformat": 4,
 "nbformat_minor": 2
}
