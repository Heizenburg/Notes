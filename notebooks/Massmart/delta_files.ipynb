{
 "cells": [
  {
   "cell_type": "code",
   "execution_count": 1,
   "metadata": {},
   "outputs": [
    {
     "name": "stdout",
     "output_type": "stream",
     "text": [
      "Moved file: AdcockSA_MassDiscounters_WE_20231022.txt\n",
      "Moved file: AfriqueSA_MassDiscounters_WE_20231022.txt\n",
      "Moved file: AlpenFoodsSA_MassDiscounters_WE_20231022.txt\n",
      "Moved file: AspenSA_MassDiscounters_WE_20231022.txt\n",
      "Moved file: BICSA_MassDiscounters_WE_20231022.txt\n",
      "Moved file: CampariSA_MassDiscounters_WE_20231022.txt\n",
      "Moved file: ClippaSA_MassDiscounters_WE_20231022.txt\n",
      "Moved file: DuracellSA_MassDiscounters_WE_20231022.txt\n",
      "Moved file: EdwardSnellAndCoSA_MassDiscounters_WE_20231022.txt\n",
      "Moved file: EnergizerSA_MassDiscounters_WE_20231022.txt\n",
      "Moved file: GSKSA_MassDiscounters_WE_20231022.txt\n",
      "Moved file: HeinekenSA_MassDiscounters_WE_20231022.txt\n",
      "Moved file: JTISA_MassDiscounters_WE_20231022.txt\n",
      "Moved file: LactalisSA_MassDiscounters_WE_20231022.txt\n",
      "Moved file: LindtSA_MassDiscounters_WE_20231022.txt\n",
      "Moved file: MarsSA_MassDiscounters_WE_20231022.txt\n",
      "Moved file: MartinMartinSA_MassDiscounters_WE_20231022.txt\n",
      "Moved file: MondelezSA_MassDiscounters_WE_20231022.txt\n",
      "Moved file: PandGSA_MassDiscounters_WE_20231022.txt\n",
      "Moved file: PernodRicardSA_MassDiscounters_WE_20231022.txt\n",
      "Moved file: RCLSA_MassDiscounters_WE_20231022.txt\n",
      "Moved file: RhodesSA_MassDiscounters_WE_20231022.txt\n",
      "Moved file: SANULACSA_MassDiscounters_WE_20231022.txt\n",
      "Moved file: TigerSA_MassDiscounters_WE_20231022.txt\n",
      "Moved file: VinimarkSA_MassDiscounters_WE_20231022.txt\n"
     ]
    }
   ],
   "source": [
    "import os\n",
    "import shutil\n",
    "\n",
    "source_directory = r\"R:\\RawData\\Game\\ToUpload\\Game BD\"\n",
    "destination_directory = r\"R:\\RawData\\Game\\ToUpload\\Convert to Delta\"\n",
    "date_to_match = \"20231022\"\n",
    "\n",
    "files = os.listdir(source_directory)\n",
    "\n",
    "for file in files:\n",
    "    # Check if the file name contains the desired date\n",
    "    if date_to_match in file:\n",
    "        source_file = os.path.join(source_directory, file)\n",
    "        destination_file = os.path.join(destination_directory, file)\n",
    "        # Move the file to the destination directory\n",
    "        shutil.move(source_file, destination_file)\n",
    "        print(f\"Moved file: {file}\")\n"
   ]
  }
 ],
 "metadata": {
  "kernelspec": {
   "display_name": "base",
   "language": "python",
   "name": "python3"
  },
  "language_info": {
   "codemirror_mode": {
    "name": "ipython",
    "version": 3
   },
   "file_extension": ".py",
   "mimetype": "text/x-python",
   "name": "python",
   "nbconvert_exporter": "python",
   "pygments_lexer": "ipython3",
   "version": "3.10.9"
  }
 },
 "nbformat": 4,
 "nbformat_minor": 2
}
