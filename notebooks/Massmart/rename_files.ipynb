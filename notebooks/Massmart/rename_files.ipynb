{
 "cells": [
  {
   "cell_type": "code",
   "execution_count": null,
   "metadata": {},
   "outputs": [],
   "source": [
    "import os\n",
    "\n",
    "folder_path = r\"R:\\RawData\\Makro Updated\\ToUpload\\Renaming\"\n",
    "\n",
    "# Define the mapping of weekending dates to new file name keywords\n",
    "date_mapping = {\n",
    "    \"20231029\": \"Delta_WE\",\n",
    "    \"20231105\": \"WE\"\n",
    "}\n",
    "\n",
    "# Iterate over the files in the folder\n",
    "for filename in os.listdir(folder_path):\n",
    "    file_path = os.path.join(folder_path, filename)\n",
    "    \n",
    "    if filename.endswith(\".txt\"):\n",
    "        company_name, _, weekending_date = filename.split(\"_\")\n",
    "        \n",
    "        if weekending_date in date_mapping:\n",
    "            new_keyword = date_mapping[weekending_date]\n",
    "            new_filename = f\"{company_name}_Makro_{new_keyword}_{weekending_date}.txt\"\n",
    "            \n",
    "            if new_filename != filename and os.path.exists(os.path.join(folder_path, new_filename)):\n",
    "                counter = 1\n",
    "                while os.path.exists(os.path.join(folder_path, f\"{company_name}_Makro_{new_keyword}_{weekending_date}_{counter}.txt\")):\n",
    "                    counter += 1\n",
    "                new_filename = f\"{company_name}_Makro_{new_keyword}_{weekending_date}_{counter}.txt\"\n",
    "            \n",
    "            # Rename the file\n",
    "            os.rename(file_path, os.path.join(folder_path, new_filename))\n",
    "            print(f\"Renamed {filename} to {new_filename}\")\n"
   ]
  }
 ],
 "metadata": {
  "kernelspec": {
   "display_name": "base",
   "language": "python",
   "name": "python3"
  },
  "language_info": {
   "codemirror_mode": {
    "name": "ipython",
    "version": 3
   },
   "file_extension": ".py",
   "mimetype": "text/x-python",
   "name": "python",
   "nbconvert_exporter": "python",
   "pygments_lexer": "ipython3",
   "version": "3.10.9"
  }
 },
 "nbformat": 4,
 "nbformat_minor": 2
}
