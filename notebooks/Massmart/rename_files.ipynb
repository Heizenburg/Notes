{
 "cells": [
  {
   "cell_type": "code",
   "execution_count": 6,
   "metadata": {},
   "outputs": [
    {
     "name": "stdout",
     "output_type": "stream",
     "text": [
      "Renamed AfriqueSA_Makro_Delta_Delta_WE_20231029.txt to AfriqueSA_Makro_Delta_Delta_Makro_Delta_WE_20231029.txt\n",
      "Renamed AfriqueSA_Makro_Delta_WE_20231105.txt to AfriqueSA_Makro_Delta_Makro_WE_20231105.txt\n",
      "Renamed AlpenFoodsSA_Makro_Delta_Delta_WE_20231029.txt to AlpenFoodsSA_Makro_Delta_Delta_Makro_Delta_WE_20231029.txt\n",
      "Renamed AlpenFoodsSA_Makro_Delta_WE_20231105.txt to AlpenFoodsSA_Makro_Delta_Makro_WE_20231105.txt\n",
      "Renamed AspenSA_Makro_Delta_WE_20231029.txt to AspenSA_Makro_Delta_Makro_Delta_WE_20231029.txt\n",
      "Renamed AspenSA_Makro_Delta_WE_20231105.txt to AspenSA_Makro_Delta_Makro_WE_20231105.txt\n"
     ]
    },
    {
     "ename": "KeyboardInterrupt",
     "evalue": "",
     "output_type": "error",
     "traceback": [
      "\u001b[1;31m---------------------------------------------------------------------------\u001b[0m",
      "\u001b[1;31mKeyboardInterrupt\u001b[0m                         Traceback (most recent call last)",
      "\u001b[1;32mc:\\Users\\tsello01\\Documents\\Scripts\\notebooks\\Massmart\\rename_files.ipynb Cell 1\u001b[0m line \u001b[0;36m3\n\u001b[0;32m     <a href='vscode-notebook-cell:/c%3A/Users/tsello01/Documents/Scripts/notebooks/Massmart/rename_files.ipynb#W0sZmlsZQ%3D%3D?line=33'>34</a>\u001b[0m     new_filename \u001b[39m=\u001b[39m \u001b[39mf\u001b[39m\u001b[39m\"\u001b[39m\u001b[39m{\u001b[39;00mcompany_name\u001b[39m}\u001b[39;00m\u001b[39m_Makro_\u001b[39m\u001b[39m{\u001b[39;00mnew_keyword\u001b[39m}\u001b[39;00m\u001b[39m_\u001b[39m\u001b[39m{\u001b[39;00mweekending_date\u001b[39m}\u001b[39;00m\u001b[39m_\u001b[39m\u001b[39m{\u001b[39;00mcounter\u001b[39m}\u001b[39;00m\u001b[39m.txt\u001b[39m\u001b[39m\"\u001b[39m\n\u001b[0;32m     <a href='vscode-notebook-cell:/c%3A/Users/tsello01/Documents/Scripts/notebooks/Massmart/rename_files.ipynb#W0sZmlsZQ%3D%3D?line=35'>36</a>\u001b[0m \u001b[39m# Rename the file\u001b[39;00m\n\u001b[1;32m---> <a href='vscode-notebook-cell:/c%3A/Users/tsello01/Documents/Scripts/notebooks/Massmart/rename_files.ipynb#W0sZmlsZQ%3D%3D?line=36'>37</a>\u001b[0m os\u001b[39m.\u001b[39;49mrename(file_path, os\u001b[39m.\u001b[39;49mpath\u001b[39m.\u001b[39;49mjoin(folder_path, new_filename))\n\u001b[0;32m     <a href='vscode-notebook-cell:/c%3A/Users/tsello01/Documents/Scripts/notebooks/Massmart/rename_files.ipynb#W0sZmlsZQ%3D%3D?line=37'>38</a>\u001b[0m \u001b[39mprint\u001b[39m(\u001b[39mf\u001b[39m\u001b[39m\"\u001b[39m\u001b[39mRenamed \u001b[39m\u001b[39m{\u001b[39;00mfilename\u001b[39m}\u001b[39;00m\u001b[39m to \u001b[39m\u001b[39m{\u001b[39;00mnew_filename\u001b[39m}\u001b[39;00m\u001b[39m\"\u001b[39m)\n",
      "\u001b[1;31mKeyboardInterrupt\u001b[0m: "
     ]
    }
   ],
   "source": [
    "import os\n",
    "\n",
    "folder_path = r\"R:\\RawData\\Makro Updated\\ToUpload\\Renaming\"\n",
    "\n",
    "# Define the mapping of weekending dates to new file name keywords\n",
    "date_mapping = {\n",
    "    \"20231029\": \"Delta_WE\",\n",
    "    \"20231105\": \"WE\"\n",
    "}\n",
    "\n",
    "# Iterate over the files in the folder\n",
    "for filename in os.listdir(folder_path):\n",
    "    file_path = os.path.join(folder_path, filename)\n",
    "    \n",
    "    if filename.endswith(\".txt\"):\n",
    "        company_name, _, weekending_date = filename.split(\"_\")\n",
    "        \n",
    "        if weekending_date in date_mapping:\n",
    "            new_keyword = date_mapping[weekending_date]\n",
    "            new_filename = f\"{company_name}_Makro_{new_keyword}_{weekending_date}.txt\"\n",
    "            \n",
    "            if new_filename != filename and os.path.exists(os.path.join(folder_path, new_filename)):\n",
    "                counter = 1\n",
    "                while os.path.exists(os.path.join(folder_path, f\"{company_name}_Makro_{new_keyword}_{weekending_date}_{counter}.txt\")):\n",
    "                    counter += 1\n",
    "                new_filename = f\"{company_name}_Makro_{new_keyword}_{weekending_date}_{counter}.txt\"\n",
    "            \n",
    "            # Rename the file\n",
    "            os.rename(file_path, os.path.join(folder_path, new_filename))\n",
    "            print(f\"Renamed {filename} to {new_filename}\")\n"
   ]
  }
 ],
 "metadata": {
  "kernelspec": {
   "display_name": "base",
   "language": "python",
   "name": "python3"
  },
  "language_info": {
   "codemirror_mode": {
    "name": "ipython",
    "version": 3
   },
   "file_extension": ".py",
   "mimetype": "text/x-python",
   "name": "python",
   "nbconvert_exporter": "python",
   "pygments_lexer": "ipython3",
   "version": "3.10.9"
  }
 },
 "nbformat": 4,
 "nbformat_minor": 2
}
