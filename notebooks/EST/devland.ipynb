{
 "cells": [
  {
   "attachments": {},
   "cell_type": "markdown",
   "metadata": {},
   "source": [
    "## EST DEVLAND"
   ]
  },
  {
   "attachments": {},
   "cell_type": "markdown",
   "metadata": {},
   "source": [
    "This notebook removes older files and leaves behind the most recent files in each folder afterwhich lists the file paths"
   ]
  },
  {
   "cell_type": "code",
   "execution_count": 1,
   "metadata": {},
   "outputs": [],
   "source": [
    "import nbimporter\n",
    "import time\n",
    "import os\n",
    "import glob\n",
    "import pandas as pd"
   ]
  },
  {
   "cell_type": "code",
   "execution_count": 2,
   "metadata": {},
   "outputs": [],
   "source": [
    "directory = r'R:\\RawData\\Elite Star\\Devland\\RAW FILES RECEIVED'"
   ]
  },
  {
   "cell_type": "code",
   "execution_count": 3,
   "metadata": {},
   "outputs": [],
   "source": [
    "def remove_except_recent(directory, days):\n",
    "    # Get a list of all files in the directory and its subdirectories\n",
    "    files = []\n",
    "    for root, dirs, filenames in os.walk(directory):\n",
    "        for filename in filenames:\n",
    "            files.append(os.path.join(root, filename))\n",
    "\n",
    "    # Sort the files by modification time in descending order\n",
    "    files.sort(key=os.path.getmtime, reverse=True)\n",
    "\n",
    "    # Keep track of the most recent file in each directory\n",
    "    most_recent_files = {}\n",
    "\n",
    "    # Keep track of the deleted files\n",
    "    deleted_files = []\n",
    "\n",
    "    # Keep track of the kept files\n",
    "    kept_files = []\n",
    "\n",
    "    # Calculate the time threshold for deletion\n",
    "    threshold_time = time.time() - days * 24 * 60 * 60\n",
    "\n",
    "    # Keep the most recent file in each directory and delete the rest\n",
    "    for file in files:\n",
    "        # Get the directory of the file\n",
    "        directory = os.path.dirname(file)\n",
    "\n",
    "        # If there is only one file in the directory, skip it\n",
    "        if len(glob.glob(os.path.join(directory, \"*\"))) == 1:\n",
    "            kept_files.append(os.path.basename(file))\n",
    "            continue\n",
    "\n",
    "        # If the directory is not in the most_recent_files dictionary, add it\n",
    "        if directory not in most_recent_files:\n",
    "            most_recent_files[directory] = file\n",
    "            kept_files.append(os.path.basename(file))\n",
    "        else:\n",
    "            # If the file is older than the most recent file in the directory and older than the threshold, delete it\n",
    "            if os.path.getmtime(file) < os.path.getmtime(most_recent_files[directory]) and os.path.getmtime(file) < threshold_time:\n",
    "                os.remove(file)\n",
    "                deleted_files.append(os.path.basename(file))\n",
    "            else:\n",
    "                # Otherwise, update the most recent file in the directory\n",
    "                os.remove(most_recent_files[directory])\n",
    "                deleted_files.append(os.path.basename(most_recent_files[directory]))\n",
    "                most_recent_files[directory] = file\n",
    "                kept_files.append(os.path.basename(file))\n",
    "\n",
    "    # Keep the most recent file in each directory\n",
    "    for directory, most_recent_file in most_recent_files.items():\n",
    "        files_in_directory = glob.glob(os.path.join(directory, \"*\"))\n",
    "        for file in files_in_directory:\n",
    "            if file != most_recent_file and os.path.getmtime(file) < threshold_time:\n",
    "                os.remove(file)\n",
    "                deleted_files.append(os.path.basename(file))\n",
    "            else:\n",
    "                kept_files.append(os.path.basename(file))\n",
    "\n",
    "    # Create a Pandas DataFrame of the deleted files\n",
    "    df_deleted = pd.DataFrame(deleted_files, columns=[\"Deleted Files\"])\n",
    "    df_deleted[\"Deleted Files\"] = df_deleted[\"Deleted Files\"].apply(lambda x: os.path.basename(x))\n",
    "    df_deleted = df_deleted.sort_values(by=[\"Deleted Files\"])\n",
    "\n",
    "    # Create a Pandas DataFrame of the kept files with only the last two elements in the file path\n",
    "    df_kept = pd.DataFrame(kept_files, columns=[\"Kept Files\"])\n",
    "    df_kept[\"Kept Files\"] = df_kept[\"Kept Files\"].apply(lambda x: os.path.join(*os.path.split(x)[-2:]))\n",
    "    df_kept = df_kept.drop_duplicates()\n",
    "    \n",
    "    return df_deleted, df_kept"
   ]
  },
  {
   "cell_type": "code",
   "execution_count": 4,
   "metadata": {},
   "outputs": [],
   "source": [
    "def list_all_files(directory):\n",
    "    file_paths = []\n",
    "\n",
    "    for root, dirs, filenames in os.walk(directory):\n",
    "        for filename in filenames:\n",
    "            relative_path = os.path.relpath(os.path.join(root, filename), directory)\n",
    "            file_paths.append(relative_path)\n",
    "\n",
    "    df = pd.DataFrame(file_paths, columns=['File Path'])\n",
    "\n",
    "    return df"
   ]
  },
  {
   "cell_type": "code",
   "execution_count": 5,
   "metadata": {},
   "outputs": [],
   "source": [
    "def list_most_recent_files(directory):\n",
    "    recent_files = []\n",
    "\n",
    "    for root, dirs, filenames in os.walk(directory):\n",
    "        if filenames:\n",
    "            most_recent_file = max(filenames, key=lambda x: os.path.getmtime(os.path.join(root, x)))\n",
    "            relative_path = os.path.relpath(os.path.join(root, most_recent_file), directory)\n",
    "            folder_name = os.path.basename(root)\n",
    "            recent_files.append([folder_name, relative_path])\n",
    "\n",
    "    df = pd.DataFrame(recent_files, columns=['Folder Name', 'Most Recent File'])\n",
    "\n",
    "    return df\n"
   ]
  },
  {
   "cell_type": "code",
   "execution_count": 6,
   "metadata": {},
   "outputs": [],
   "source": [
    "all_files    = list_all_files(directory)\n",
    "recent_files = list_most_recent_files(directory)"
   ]
  },
  {
   "cell_type": "code",
   "execution_count": 7,
   "metadata": {},
   "outputs": [],
   "source": [
    "with pd.ExcelWriter(\"C:\\\\Users\\\\tsello01\\\\Documents\\\\Data\\\\Devland Latest.xlsx\", engine='xlsxwriter') as writer:\n",
    "    all_files.to_excel(writer, sheet_name='All Files', index=False)\n",
    "    recent_files.to_excel(writer, sheet_name='Most Recent Files', index=False)"
   ]
  }
 ],
 "metadata": {
  "kernelspec": {
   "display_name": "base",
   "language": "python",
   "name": "python3"
  },
  "language_info": {
   "codemirror_mode": {
    "name": "ipython",
    "version": 3
   },
   "file_extension": ".py",
   "mimetype": "text/x-python",
   "name": "python",
   "nbconvert_exporter": "python",
   "pygments_lexer": "ipython3",
   "version": "3.10.9"
  },
  "orig_nbformat": 4
 },
 "nbformat": 4,
 "nbformat_minor": 2
}
