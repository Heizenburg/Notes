{
 "cells": [
  {
   "attachments": {},
   "cell_type": "markdown",
   "metadata": {},
   "source": [
    "## EST DEVLAND"
   ]
  },
  {
   "attachments": {},
   "cell_type": "markdown",
   "metadata": {},
   "source": [
    "This notebook removes older files and leaves behind the most recent files in each folder afterwhich it then lists files paths"
   ]
  },
  {
   "cell_type": "code",
   "execution_count": 1,
   "metadata": {},
   "outputs": [],
   "source": [
    "import nbimporter\n",
    "import time\n",
    "import os\n",
    "import glob\n",
    "import pandas as pd"
   ]
  },
  {
   "cell_type": "code",
   "execution_count": null,
   "metadata": {},
   "outputs": [],
   "source": [
    "%run react.ipynb"
   ]
  },
  {
   "cell_type": "code",
   "execution_count": 3,
   "metadata": {},
   "outputs": [],
   "source": [
    "directory = r'R:\\RawData\\Elite Star\\Devland\\RAW FILES RECEIVED'"
   ]
  },
  {
   "cell_type": "code",
   "execution_count": null,
   "metadata": {},
   "outputs": [],
   "source": [
    "def remove_except_recent(directory, days):\n",
    "    # Get a list of all files in the directory and its subdirectories\n",
    "    files = []\n",
    "    for root, dirs, filenames in os.walk(directory):\n",
    "        for filename in filenames:\n",
    "            files.append(os.path.join(root, filename))\n",
    "\n",
    "    # Sort the files by modification time in descending order\n",
    "    files.sort(key=os.path.getmtime, reverse=True)\n",
    "\n",
    "    # Keep track of the most recent file in each directory\n",
    "    most_recent_files = {}\n",
    "\n",
    "    # Keep track of the deleted files\n",
    "    deleted_files = []\n",
    "\n",
    "    # Keep track of the kept files\n",
    "    kept_files = []\n",
    "\n",
    "    # Calculate the time threshold for deletion\n",
    "    threshold_time = time.time() - days * 24 * 60 * 60\n",
    "\n",
    "    # Keep the most recent file in each directory and delete the rest\n",
    "    for file in files:\n",
    "        # Get the directory of the file\n",
    "        directory = os.path.dirname(file)\n",
    "\n",
    "        # If there is only one file in the directory, skip it\n",
    "        if len(glob.glob(os.path.join(directory, \"*\"))) == 1:\n",
    "            kept_files.append(os.path.basename(file))\n",
    "            continue\n",
    "\n",
    "        # If the directory is not in the most_recent_files dictionary, add it\n",
    "        if directory not in most_recent_files:\n",
    "            most_recent_files[directory] = file\n",
    "            kept_files.append(os.path.basename(file))\n",
    "        else:\n",
    "            # If the file is older than the most recent file in the directory and older than the threshold, delete it\n",
    "            if os.path.getmtime(file) < os.path.getmtime(most_recent_files[directory]) and os.path.getmtime(file) < threshold_time:\n",
    "                os.remove(file)\n",
    "                deleted_files.append(os.path.basename(file))\n",
    "            else:\n",
    "                # Otherwise, update the most recent file in the directory\n",
    "                os.remove(most_recent_files[directory])\n",
    "                deleted_files.append(os.path.basename(most_recent_files[directory]))\n",
    "                most_recent_files[directory] = file\n",
    "                kept_files.append(os.path.basename(file))\n",
    "\n",
    "    # Keep the most recent file in each directory\n",
    "    for directory, most_recent_file in most_recent_files.items():\n",
    "        files_in_directory = glob.glob(os.path.join(directory, \"*\"))\n",
    "        for file in files_in_directory:\n",
    "            if file != most_recent_file and os.path.getmtime(file) < threshold_time:\n",
    "                os.remove(file)\n",
    "                deleted_files.append(os.path.basename(file))\n",
    "            else:\n",
    "                kept_files.append(os.path.basename(file))\n",
    "\n",
    "    # Create a Pandas DataFrame of the deleted files\n",
    "    df_deleted = pd.DataFrame(deleted_files, columns=[\"Deleted Files\"])\n",
    "    df_deleted[\"Deleted Files\"] = df_deleted[\"Deleted Files\"].apply(lambda x: os.path.basename(x))\n",
    "    df_deleted = df_deleted.sort_values(by=[\"Deleted Files\"])\n",
    "\n",
    "    # Create a Pandas DataFrame of the kept files with only the last two elements in the file path\n",
    "    df_kept = pd.DataFrame(kept_files, columns=[\"Kept Files\"])\n",
    "    df_kept[\"Kept Files\"] = df_kept[\"Kept Files\"].apply(lambda x: os.path.join(*os.path.split(x)[-2:]))\n",
    "    df_kept = df_kept.drop_duplicates()\n",
    "    \n",
    "    return df_deleted, df_kept\n",
    "\n"
   ]
  },
  {
   "cell_type": "code",
   "execution_count": 6,
   "metadata": {},
   "outputs": [],
   "source": [
    "def list_all_files(directory):\n",
    "    file_paths = []\n",
    "\n",
    "    # Walk through the directory\n",
    "    for root, dirs, filenames in os.walk(directory):\n",
    "        for filename in filenames:\n",
    "            # Get the relative path of the file from the directory\n",
    "            relative_path = os.path.relpath(os.path.join(root, filename), directory)\n",
    "            \n",
    "            file_paths.append(relative_path)\n",
    "\n",
    "    df = pd.DataFrame(file_paths, columns=['File Path'])\n",
    "\n",
    "    return df"
   ]
  },
  {
   "cell_type": "code",
   "execution_count": null,
   "metadata": {},
   "outputs": [],
   "source": [
    "delete_df, kept_df = delete_all_except_recent(directory)"
   ]
  },
  {
   "cell_type": "code",
   "execution_count": 7,
   "metadata": {},
   "outputs": [],
   "source": [
    "remaining_files = list_all_files(directory)"
   ]
  },
  {
   "cell_type": "code",
   "execution_count": 9,
   "metadata": {},
   "outputs": [
    {
     "data": {
      "text/html": [
       "<div>\n",
       "<style scoped>\n",
       "    .dataframe tbody tr th:only-of-type {\n",
       "        vertical-align: middle;\n",
       "    }\n",
       "\n",
       "    .dataframe tbody tr th {\n",
       "        vertical-align: top;\n",
       "    }\n",
       "\n",
       "    .dataframe thead th {\n",
       "        text-align: right;\n",
       "    }\n",
       "</style>\n",
       "<table border=\"1\" class=\"dataframe\">\n",
       "  <thead>\n",
       "    <tr style=\"text-align: right;\">\n",
       "      <th></th>\n",
       "      <th>File Path</th>\n",
       "    </tr>\n",
       "  </thead>\n",
       "  <tbody>\n",
       "    <tr>\n",
       "      <th>0</th>\n",
       "      <td>BOKSBURG SNACKS AND DRINKS\\SaleAudit_BOKSBURG ...</td>\n",
       "    </tr>\n",
       "    <tr>\n",
       "      <th>1</th>\n",
       "      <td>BOKSBURG SNACKS AND DRINKS\\SaleAudit_BOKSBURG ...</td>\n",
       "    </tr>\n",
       "    <tr>\n",
       "      <th>2</th>\n",
       "      <td>BOKSBURG SNACKS AND DRINKS\\SaleAudit_BOKSBURG ...</td>\n",
       "    </tr>\n",
       "    <tr>\n",
       "      <th>3</th>\n",
       "      <td>BOKSBURG SNACKS AND DRINKS\\SaleAudit_BOKSBURG ...</td>\n",
       "    </tr>\n",
       "    <tr>\n",
       "      <th>4</th>\n",
       "      <td>BOKSBURG SNACKS AND DRINKS\\SaleAudit_BOKSBURG ...</td>\n",
       "    </tr>\n",
       "    <tr>\n",
       "      <th>...</th>\n",
       "      <td>...</td>\n",
       "    </tr>\n",
       "    <tr>\n",
       "      <th>151</th>\n",
       "      <td>Newtown Cash &amp; Carry\\SaleAudit_Newtown Cash &amp; ...</td>\n",
       "    </tr>\n",
       "    <tr>\n",
       "      <th>152</th>\n",
       "      <td>Newtown Cash &amp; Carry\\SaleAudit_Newtown Cash &amp; ...</td>\n",
       "    </tr>\n",
       "    <tr>\n",
       "      <th>153</th>\n",
       "      <td>Newtown Cash &amp; Carry\\SaleAudit_Newtown Cash &amp; ...</td>\n",
       "    </tr>\n",
       "    <tr>\n",
       "      <th>154</th>\n",
       "      <td>Newtown Cash &amp; Carry\\SaleAudit_Newtown Cash &amp; ...</td>\n",
       "    </tr>\n",
       "    <tr>\n",
       "      <th>155</th>\n",
       "      <td>Newtown Cash &amp; Carry\\SaleAudit_Newtown Cash &amp; ...</td>\n",
       "    </tr>\n",
       "  </tbody>\n",
       "</table>\n",
       "<p>156 rows × 1 columns</p>\n",
       "</div>"
      ],
      "text/plain": [
       "                                             File Path\n",
       "0    BOKSBURG SNACKS AND DRINKS\\SaleAudit_BOKSBURG ...\n",
       "1    BOKSBURG SNACKS AND DRINKS\\SaleAudit_BOKSBURG ...\n",
       "2    BOKSBURG SNACKS AND DRINKS\\SaleAudit_BOKSBURG ...\n",
       "3    BOKSBURG SNACKS AND DRINKS\\SaleAudit_BOKSBURG ...\n",
       "4    BOKSBURG SNACKS AND DRINKS\\SaleAudit_BOKSBURG ...\n",
       "..                                                 ...\n",
       "151  Newtown Cash & Carry\\SaleAudit_Newtown Cash & ...\n",
       "152  Newtown Cash & Carry\\SaleAudit_Newtown Cash & ...\n",
       "153  Newtown Cash & Carry\\SaleAudit_Newtown Cash & ...\n",
       "154  Newtown Cash & Carry\\SaleAudit_Newtown Cash & ...\n",
       "155  Newtown Cash & Carry\\SaleAudit_Newtown Cash & ...\n",
       "\n",
       "[156 rows x 1 columns]"
      ]
     },
     "execution_count": 9,
     "metadata": {},
     "output_type": "execute_result"
    }
   ],
   "source": [
    "remaining_files"
   ]
  },
  {
   "cell_type": "code",
   "execution_count": 8,
   "metadata": {},
   "outputs": [],
   "source": [
    "remaining_files.to_excel(\"C:\\\\Users\\\\tsello01\\\\Documents\\\\Data\\\\devland_files(3).xlsx\", index=False)\n"
   ]
  }
 ],
 "metadata": {
  "kernelspec": {
   "display_name": "base",
   "language": "python",
   "name": "python3"
  },
  "language_info": {
   "codemirror_mode": {
    "name": "ipython",
    "version": 3
   },
   "file_extension": ".py",
   "mimetype": "text/x-python",
   "name": "python",
   "nbconvert_exporter": "python",
   "pygments_lexer": "ipython3",
   "version": "3.10.9"
  },
  "orig_nbformat": 4
 },
 "nbformat": 4,
 "nbformat_minor": 2
}
