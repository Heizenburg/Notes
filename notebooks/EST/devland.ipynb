{
 "cells": [
  {
   "attachments": {},
   "cell_type": "markdown",
   "metadata": {},
   "source": [
    "## DEVLAND"
   ]
  },
  {
   "attachments": {},
   "cell_type": "markdown",
   "metadata": {},
   "source": [
    "This notebook removes older files and leaves behind the most recent files in each folder afterwhich lists the file paths"
   ]
  },
  {
   "cell_type": "code",
   "execution_count": 1,
   "metadata": {},
   "outputs": [],
   "source": [
    "import nbimporter\n",
    "import time\n",
    "import os\n",
    "import glob\n",
    "import pandas as pd\n",
    "import subprocess\n",
    "import logging\n",
    "import os\n",
    "import pathlib"
   ]
  },
  {
   "cell_type": "code",
   "execution_count": 2,
   "metadata": {},
   "outputs": [],
   "source": [
    "directory = r'R:\\RawData\\Elite Star\\Devland\\RAW FILES RECEIVED'"
   ]
  },
  {
   "cell_type": "code",
   "execution_count": null,
   "metadata": {},
   "outputs": [],
   "source": [
    "def get_file_list(directory):\n",
    "    \"\"\"Retrieve a list of all files in the directory and its subdirectories.\"\"\"\n",
    "    return glob.glob(os.path.join(directory, '**'), recursive=True)"
   ]
  },
  {
   "cell_type": "code",
   "execution_count": null,
   "metadata": {},
   "outputs": [],
   "source": [
    "def get_most_recent_file(directory, files):\n",
    "    \"\"\"Retrieve the most recent file in the directory.\"\"\"\n",
    "    return max(files, key=os.path.getmtime)"
   ]
  },
  {
   "cell_type": "code",
   "execution_count": null,
   "metadata": {},
   "outputs": [],
   "source": [
    "def delete_files(files):\n",
    "    \"\"\"Delete the specified files.\"\"\"\n",
    "    for file in files:\n",
    "        try:\n",
    "            os.remove(file)\n",
    "        except Exception as e:\n",
    "            logging.error(f\"Error deleting file {file}: {e}\")"
   ]
  },
  {
   "cell_type": "code",
   "execution_count": 3,
   "metadata": {},
   "outputs": [],
   "source": [
    "def purge_except_recent(directory, days):\n",
    "    files = get_file_list(directory)\n",
    "\n",
    "    most_recent_files = {}\n",
    "    deleted_files = []\n",
    "    kept_files = []\n",
    "\n",
    "    # Calculate the time threshold for deletion\n",
    "    threshold_time = time.time() - days * 24 * 60 * 60\n",
    "\n",
    "    # Keep the most recent file in each directory and delete the rest\n",
    "    for file in files:\n",
    "        # Get the directory of the file\n",
    "        directory = pathlib.Path(file).parent\n",
    "\n",
    "        # If there is only one file in the directory, skip it\n",
    "        if len(list(directory.glob('*'))) == 1:\n",
    "            kept_files.append(file)\n",
    "            continue\n",
    "\n",
    "        # If the directory is not in the most_recent_files dictionary, add it\n",
    "        if directory not in most_recent_files:\n",
    "            most_recent_files[directory] = file\n",
    "            kept_files.append(file)\n",
    "        else:\n",
    "            # If the file is older than the most recent file in the directory and older than the threshold, delete it\n",
    "            if os.path.getmtime(file) < os.path.getmtime(most_recent_files[directory]) and os.path.getmtime(file) < threshold_time:\n",
    "                delete_files([file])\n",
    "                deleted_files.append(file)\n",
    "            else:\n",
    "                # Otherwise, update the most recent file in the directory\n",
    "                delete_files([most_recent_files[directory]])\n",
    "                deleted_files.append(most_recent_files[directory])\n",
    "                most_recent_files[directory] = file\n",
    "                kept_files.append(file)\n",
    "\n",
    "    # Keep the most recent file in each directory\n",
    "    for directory, most_recent_file in most_recent_files.items():\n",
    "        files_in_directory = list(directory.glob('*'))\n",
    "        for file in files_in_directory:\n",
    "            if file != most_recent_file and os.path.getmtime(file) < threshold_time:\n",
    "                delete_files([file])\n",
    "                deleted_files.append(file)\n",
    "            else:\n",
    "                kept_files.append(file)\n",
    "\n",
    "    # Create a list of the deleted & Kept files\n",
    "    deleted_files = sorted(deleted_files)\n",
    "    kept_files = sorted(set(kept_files))\n",
    "\n",
    "    # Create a Pandas DataFrame of the deleted files\n",
    "    df_deleted = pd.DataFrame(deleted_files, columns=[\"Deleted Files\"])\n",
    "    df_deleted[\"Deleted Files\"] = df_deleted[\"Deleted Files\"].apply(lambda x: str(x))\n",
    "    df_deleted = df_deleted.sort_values(by=[\"Deleted Files\"])\n",
    "\n",
    "    # Create a Pandas DataFrame of the kept files with only the last two elements in the file path\n",
    "    df_kept = pd.DataFrame(kept_files, columns=[\"Kept Files\"])\n",
    "    df_kept[\"Kept Files\"] = df_kept[\"Kept Files\"].apply(lambda x: os.path.join(*pathlib.Path(x).parts[-2:]))\n",
    "    df_kept = df_kept.drop_duplicates()\n",
    "\n",
    "    return df_deleted, df_kept"
   ]
  },
  {
   "cell_type": "code",
   "execution_count": 4,
   "metadata": {},
   "outputs": [],
   "source": [
    "def list_files(directory):\n",
    "    file_paths = []\n",
    "\n",
    "    for root, dirs, filenames in os.walk(directory):\n",
    "        for filename in filenames:\n",
    "            relative_path = os.path.relpath(os.path.join(root, filename), directory)\n",
    "            file_paths.append(relative_path)\n",
    "\n",
    "    df = pd.DataFrame(file_paths, columns=['File Path'])\n",
    "\n",
    "    return df"
   ]
  },
  {
   "cell_type": "code",
   "execution_count": 5,
   "metadata": {},
   "outputs": [],
   "source": [
    "def list_most_recent_files(directory):\n",
    "    recent_files = []\n",
    "\n",
    "    for root, dirs, filenames in os.walk(directory):\n",
    "        if filenames:\n",
    "            most_recent_file = max(filenames, key=lambda x: os.path.getmtime(os.path.join(root, x)))\n",
    "            relative_path = os.path.relpath(os.path.join(root, most_recent_file), directory)\n",
    "            folder_name = os.path.basename(root)\n",
    "            recent_files.append([folder_name, relative_path])\n",
    "\n",
    "    df = pd.DataFrame(recent_files, columns=['Folder Name', 'Most Recent File'])\n",
    "\n",
    "    return df\n"
   ]
  },
  {
   "cell_type": "code",
   "execution_count": 6,
   "metadata": {},
   "outputs": [],
   "source": [
    "output_file = \"C:\\\\Users\\\\tsello01\\\\Documents\\\\Data\\\\Devland Latest.xlsx\"\n",
    "\n",
    "try:\n",
    "    with pd.ExcelWriter(output_file, engine='xlsxwriter') as writer:\n",
    "        list_files(directory).to_excel(writer, sheet_name='All Files', index=False)\n",
    "        list_most_recent_files(directory).to_excel(writer, sheet_name='Most Recent Files', index=False)\n",
    "        \n",
    "    if os.name == 'nt':  # for Windows\n",
    "        os.startfile(output_file)\n",
    "    else:  # for macOS and Linux\n",
    "        subprocess.call(['open', output_file])\n",
    "\n",
    "except PermissionError:\n",
    "    print(\"Error: The file is already open. Please close it and try again.\")"
   ]
  }
 ],
 "metadata": {
  "kernelspec": {
   "display_name": "base",
   "language": "python",
   "name": "python3"
  },
  "language_info": {
   "codemirror_mode": {
    "name": "ipython",
    "version": 3
   },
   "file_extension": ".py",
   "mimetype": "text/x-python",
   "name": "python",
   "nbconvert_exporter": "python",
   "pygments_lexer": "ipython3",
   "version": "3.10.9"
  },
  "orig_nbformat": 4
 },
 "nbformat": 4,
 "nbformat_minor": 2
}
