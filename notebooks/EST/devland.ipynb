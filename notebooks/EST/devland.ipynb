{
 "cells": [
  {
   "attachments": {},
   "cell_type": "markdown",
   "metadata": {},
   "source": [
    "## DEVLAND"
   ]
  },
  {
   "attachments": {},
   "cell_type": "markdown",
   "metadata": {},
   "source": [
    "Lists files that are present in each folder as well as the latest files"
   ]
  },
  {
   "cell_type": "code",
   "execution_count": 17,
   "metadata": {},
   "outputs": [],
   "source": [
    "import time\n",
    "import os\n",
    "import glob\n",
    "import pandas as pd\n",
    "import subprocess\n",
    "import logging\n",
    "import os\n",
    "import pathlib"
   ]
  },
  {
   "cell_type": "code",
   "execution_count": 18,
   "metadata": {},
   "outputs": [],
   "source": [
    "directory = r'R:\\RawData\\Elite Star\\\\Devland\\RAW FILES RECEIVED'"
   ]
  },
  {
   "cell_type": "code",
   "execution_count": 19,
   "metadata": {},
   "outputs": [],
   "source": [
    "def get_file_list(directory):\n",
    "    \"\"\"Retrieve a list of all files in the directory and its subdirectories.\"\"\"\n",
    "    return glob.glob(os.path.join(directory, '**'), recursive=True)"
   ]
  },
  {
   "cell_type": "code",
   "execution_count": 20,
   "metadata": {},
   "outputs": [],
   "source": [
    "def get_most_recent_file(directory, files):\n",
    "    \"\"\"Retrieve the most recent file in the directory.\"\"\"\n",
    "    return max(files, key=os.path.getmtime)"
   ]
  },
  {
   "cell_type": "code",
   "execution_count": 21,
   "metadata": {},
   "outputs": [],
   "source": [
    "def delete_files(files):\n",
    "    \"\"\"Delete the specified files.\"\"\"\n",
    "    for file in files:\n",
    "        try:\n",
    "            os.remove(file)\n",
    "        except Exception as e:\n",
    "            logging.error(f\"Error deleting file {file}: {e}\")"
   ]
  },
  {
   "cell_type": "code",
   "execution_count": 22,
   "metadata": {},
   "outputs": [],
   "source": [
    "def list_files(directory):\n",
    "    file_paths = []\n",
    "\n",
    "    for root, dirs, filenames in os.walk(directory):\n",
    "        for filename in filenames:\n",
    "            relative_path = os.path.relpath(os.path.join(root, filename), directory)\n",
    "            file_paths.append(relative_path)\n",
    "\n",
    "    df = pd.DataFrame(file_paths, columns=['File Path'])\n",
    "\n",
    "    return df"
   ]
  },
  {
   "cell_type": "code",
   "execution_count": 23,
   "metadata": {},
   "outputs": [],
   "source": [
    "def list_most_recent_files(directory):\n",
    "    recent_files = []\n",
    "\n",
    "    for root, dirs, filenames in os.walk(directory):\n",
    "        if filenames:\n",
    "            most_recent_file = max(filenames, key=lambda x: os.path.getmtime(os.path.join(root, x)))\n",
    "            relative_path = os.path.relpath(os.path.join(root, most_recent_file), directory)\n",
    "            folder_name = os.path.basename(root)\n",
    "            recent_files.append([folder_name, relative_path])\n",
    "\n",
    "    df = pd.DataFrame(recent_files, columns=['Folder Name', 'Most Recent File'])\n",
    "\n",
    "    return df\n"
   ]
  },
  {
   "cell_type": "code",
   "execution_count": 24,
   "metadata": {},
   "outputs": [],
   "source": [
    "output_file = r\"C:\\Users\\tsello01\\\\Documents\\\\Data\\\\Devland Latest.xlsx\"\n",
    "\n",
    "try:\n",
    "    with pd.ExcelWriter(output_file, engine='xlsxwriter') as writer:\n",
    "        list_files(directory).to_excel(writer, sheet_name='All Files', index=False)\n",
    "        list_most_recent_files(directory).to_excel(writer, sheet_name='Most Recent Files', index=False)\n",
    "        \n",
    "    if os.name == 'nt':  # Windows\n",
    "        os.startfile(output_file)\n",
    "    else:  # macOS and Linux\n",
    "        subprocess.call(['open', output_file])\n",
    "\n",
    "except PermissionError:\n",
    "    print(\"Error: The file is already open. Please close it and try again.\")"
   ]
  }
 ],
 "metadata": {
  "kernelspec": {
   "display_name": "base",
   "language": "python",
   "name": "python3"
  },
  "language_info": {
   "codemirror_mode": {
    "name": "ipython",
    "version": 3
   },
   "file_extension": ".py",
   "mimetype": "text/x-python",
   "name": "python",
   "nbconvert_exporter": "python",
   "pygments_lexer": "ipython3",
   "version": "3.10.9"
  },
  "orig_nbformat": 4
 },
 "nbformat": 4,
 "nbformat_minor": 2
}
