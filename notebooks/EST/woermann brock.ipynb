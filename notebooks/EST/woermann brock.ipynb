{
 "cells": [
  {
   "cell_type": "markdown",
   "metadata": {},
   "source": [
    "## Woermann Brock \n",
    "\n",
    "Serves as a normalization script before the execution of the preload."
   ]
  },
  {
   "cell_type": "code",
   "execution_count": 1,
   "metadata": {},
   "outputs": [
    {
     "name": "stderr",
     "output_type": "stream",
     "text": [
      "c:\\Users\\tsello01\\AppData\\Local\\anaconda3\\lib\\site-packages\\paramiko\\transport.py:219: CryptographyDeprecationWarning: Blowfish has been deprecated\n",
      "  \"class\": algorithms.Blowfish,\n"
     ]
    }
   ],
   "source": [
    "import pandas as pd\n",
    "import re\n",
    "import datetime\n",
    "import os\n",
    "\n",
    "from datetime import datetime\n",
    "from dotenv import load_dotenv\n",
    "from sftp_downloader import SFTPDownloader"
   ]
  },
  {
   "cell_type": "code",
   "execution_count": 2,
   "metadata": {},
   "outputs": [
    {
     "data": {
      "text/plain": [
       "True"
      ]
     },
     "execution_count": 2,
     "metadata": {},
     "output_type": "execute_result"
    }
   ],
   "source": [
    "load_dotenv()"
   ]
  },
  {
   "cell_type": "code",
   "execution_count": 3,
   "metadata": {},
   "outputs": [],
   "source": [
    "folder_path = r'R:\\RawData\\Elite Star\\Woermann Brock\\ToUpload' "
   ]
  },
  {
   "cell_type": "code",
   "execution_count": 4,
   "metadata": {},
   "outputs": [
    {
     "name": "stdout",
     "output_type": "stream",
     "text": [
      "                File Name                 Date\n",
      "0  ESTexport-31032024.txt  2024-03-31 00:00:00\n",
      "1  ESTexport-30032024.txt  2024-03-30 00:00:00\n",
      "2  ESTexport-29032024.txt  2024-03-29 00:00:00\n",
      "3  ESTexport-28032024.txt  2024-03-28 00:00:00\n",
      "4  ESTexport-27032024.txt  2024-03-27 00:00:00\n",
      "5                 Back up  0001-01-01 00:00:00\n"
     ]
    }
   ],
   "source": [
    "def extract_date_from_filename(filename):\n",
    "    match = re.search(r'(\\d{2})(\\d{2})(\\d{4})', filename)\n",
    "    if match:\n",
    "        date_str = match.group(1) + match.group(2) + match.group(3)\n",
    "        date_obj = datetime.strptime(date_str, '%d%m%Y')\n",
    "        return date_obj\n",
    "    else:\n",
    "        return datetime.min # If the date is not found, set it to a default value\n",
    "\n",
    "file_list = os.listdir(folder_path)\n",
    "file_list.sort(key=lambda x: extract_date_from_filename(x), reverse=True)\n",
    "\n",
    "sorted_files = [{'File Name': filename, 'Date': extract_date_from_filename(filename)} for filename in file_list]\n",
    "\n",
    "df = pd.DataFrame(sorted_files)\n",
    "print(df)"
   ]
  },
  {
   "cell_type": "code",
   "execution_count": 5,
   "metadata": {},
   "outputs": [
    {
     "name": "stdout",
     "output_type": "stream",
     "text": [
      "         Initial Filename           Final Filename\n",
      "0  ESTexport-27032024.txt  ESTexport-27032024 .txt\n",
      "1  ESTexport-28032024.txt  ESTexport-28032024 .txt\n",
      "2  ESTexport-29032024.txt  ESTexport-29032024 .txt\n",
      "3  ESTexport-30032024.txt  ESTexport-30032024 .txt\n",
      "4  ESTexport-31032024.txt  ESTexport-31032024 .txt\n"
     ]
    }
   ],
   "source": [
    "def normalize_filename(filename):\n",
    "    base, ext = os.path.splitext(filename)\n",
    "    normalized_filename = f\"{base.strip()} {ext.strip()}\"\n",
    "    return normalized_filename\n",
    "\n",
    "file_data = []\n",
    "for filename in os.listdir(folder_path):\n",
    "    if os.path.isfile(os.path.join(folder_path, filename)):\n",
    "        normalized_filename = normalize_filename(filename)\n",
    "        if normalized_filename != filename:  \n",
    "            file_data.append([filename, normalized_filename])\n",
    "            destination_path = os.path.join(folder_path, normalized_filename)\n",
    "            if os.path.exists(destination_path):\n",
    "                os.remove(destination_path)  # Remove the existing file\n",
    "            os.rename(os.path.join(folder_path, filename), destination_path)\n",
    "\n",
    "df = pd.DataFrame(file_data, columns=['Initial Filename', 'Final Filename'])\n",
    "print(df)\n"
   ]
  }
 ],
 "metadata": {
  "kernelspec": {
   "display_name": "base",
   "language": "python",
   "name": "python3"
  },
  "language_info": {
   "codemirror_mode": {
    "name": "ipython",
    "version": 3
   },
   "file_extension": ".py",
   "mimetype": "text/x-python",
   "name": "python",
   "nbconvert_exporter": "python",
   "pygments_lexer": "ipython3",
   "version": "3.10.9"
  }
 },
 "nbformat": 4,
 "nbformat_minor": 2
}
