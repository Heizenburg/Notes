{
 "cells": [
  {
   "cell_type": "markdown",
   "metadata": {},
   "source": [
    "## Woermann Brock \n",
    "\n",
    "Serves as a normalization script before the execution of the preload."
   ]
  },
  {
   "cell_type": "code",
   "execution_count": 1,
   "metadata": {},
   "outputs": [],
   "source": [
    "import os\n",
    "import pandas as pd\n",
    "import re\n",
    "import pysftp\n",
    "import datetime\n",
    "import os\n",
    "\n",
    "from datetime import datetime\n",
    "from dotenv import load_dotenv\n",
    "from sftp_downloader import SFTPDownloader "
   ]
  },
  {
   "cell_type": "code",
   "execution_count": null,
   "metadata": {},
   "outputs": [],
   "source": [
    "load_dotenv()\n",
    "ftp_host = os.getenv('FTP_HOST')\n",
    "ftp_user = os.getenv('FTP_USERNAME')\n",
    "ftp_password = os.getenv('FTP_PASSWORD')"
   ]
  },
  {
   "cell_type": "code",
   "execution_count": null,
   "metadata": {},
   "outputs": [],
   "source": [
    "sftp_downloader = SFTPDownloader(ftp_host, ftp_user, ftp_password, port=22, days=10)\n",
    "\n",
    "sftp_downloader.download_data('/euwoehb7ftp/Up', r'R:\\RawData\\Elite Star\\\\Woermann Brock\\ToUpload')"
   ]
  },
  {
   "cell_type": "code",
   "execution_count": 3,
   "metadata": {},
   "outputs": [],
   "source": [
    "folder_path = r'R:\\RawData\\Elite Star\\Woermann Brock\\ToUpload' "
   ]
  },
  {
   "cell_type": "code",
   "execution_count": 4,
   "metadata": {},
   "outputs": [
    {
     "name": "stdout",
     "output_type": "stream",
     "text": [
      "                File Name                 Date\n",
      "0  ESTexport-28112023.txt  2023-11-28 00:00:00\n",
      "1  ESTexport-27112023.txt  2023-11-27 00:00:00\n",
      "2  ESTexport-26112023.txt  2023-11-26 00:00:00\n",
      "3  ESTexport-25112023.txt  2023-11-25 00:00:00\n",
      "4  ESTexport-24112023.txt  2023-11-24 00:00:00\n",
      "5  ESTexport-23112023.txt  2023-11-23 00:00:00\n",
      "6  ESTexport-22112023.txt  2023-11-22 00:00:00\n",
      "7  ESTexport-21112023.txt  2023-11-21 00:00:00\n",
      "8  ESTexport-20112023.txt  2023-11-20 00:00:00\n",
      "9                 Back up  0001-01-01 00:00:00\n"
     ]
    }
   ],
   "source": [
    "def extract_date_from_filename(filename):\n",
    "    match = re.search(r'(\\d{2})(\\d{2})(\\d{4})', filename)\n",
    "    if match:\n",
    "        date_str = match.group(1) + match.group(2) + match.group(3)\n",
    "        date_obj = datetime.strptime(date_str, '%d%m%Y')\n",
    "        return date_obj\n",
    "    else:\n",
    "        return datetime.min # If the date is not found, set it to a default value\n",
    "\n",
    "file_list = os.listdir(folder_path)\n",
    "file_list.sort(key=lambda x: extract_date_from_filename(x), reverse=True)\n",
    "\n",
    "sorted_files = [{'File Name': filename, 'Date': extract_date_from_filename(filename)} for filename in file_list]\n",
    "\n",
    "df = pd.DataFrame(sorted_files)\n",
    "print(df)"
   ]
  },
  {
   "cell_type": "code",
   "execution_count": 5,
   "metadata": {},
   "outputs": [
    {
     "name": "stdout",
     "output_type": "stream",
     "text": [
      "         Initial Filename           Final Filename\n",
      "0  ESTexport-20112023.txt  ESTexport-20112023 .txt\n",
      "1  ESTexport-21112023.txt  ESTexport-21112023 .txt\n",
      "2  ESTexport-22112023.txt  ESTexport-22112023 .txt\n",
      "3  ESTexport-23112023.txt  ESTexport-23112023 .txt\n",
      "4  ESTexport-24112023.txt  ESTexport-24112023 .txt\n",
      "5  ESTexport-25112023.txt  ESTexport-25112023 .txt\n",
      "6  ESTexport-26112023.txt  ESTexport-26112023 .txt\n",
      "7  ESTexport-27112023.txt  ESTexport-27112023 .txt\n",
      "8  ESTexport-28112023.txt  ESTexport-28112023 .txt\n"
     ]
    }
   ],
   "source": [
    "def normalize_filename(filename):\n",
    "    base, ext = os.path.splitext(filename)\n",
    "    normalized_filename = f\"{base.strip()} {ext.strip()}\"\n",
    "    return normalized_filename\n",
    "\n",
    "file_data = []\n",
    "for filename in os.listdir(folder_path):\n",
    "    if os.path.isfile(os.path.join(folder_path, filename)):\n",
    "        normalized_filename = normalize_filename(filename)\n",
    "        if normalized_filename is not filename:\n",
    "            file_data.append([filename, normalized_filename])\n",
    "            os.rename(os.path.join(folder_path, filename), os.path.join(folder_path, normalized_filename))\n",
    "\n",
    "df = pd.DataFrame(file_data, columns=['Initial Filename', 'Final Filename'])\n",
    "print(df)\n"
   ]
  }
 ],
 "metadata": {
  "kernelspec": {
   "display_name": "base",
   "language": "python",
   "name": "python3"
  },
  "language_info": {
   "codemirror_mode": {
    "name": "ipython",
    "version": 3
   },
   "file_extension": ".py",
   "mimetype": "text/x-python",
   "name": "python",
   "nbconvert_exporter": "python",
   "pygments_lexer": "ipython3",
   "version": "3.10.9"
  }
 },
 "nbformat": 4,
 "nbformat_minor": 2
}
