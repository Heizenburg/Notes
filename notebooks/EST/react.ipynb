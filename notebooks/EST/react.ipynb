{
 "cells": [
  {
   "cell_type": "markdown",
   "metadata": {},
   "source": [
    "## React\n",
    "\n",
    "Downloads files associated with the data source and deletes all files except the most recent according to the DM. "
   ]
  },
  {
   "cell_type": "code",
   "execution_count": null,
   "metadata": {},
   "outputs": [],
   "source": [
    "import logging\n",
    "import os\n",
    "import pandas as pd\n",
    "import glob\n",
    "\n",
    "from dotenv import load_dotenv\n",
    "from ftplib import FTP, error_perm"
   ]
  },
  {
   "cell_type": "code",
   "execution_count": null,
   "metadata": {},
   "outputs": [],
   "source": [
    "# Configure the logger\n",
    "logging.basicConfig(level=logging.ERROR, format='%(asctime)s - %(levelname)s - %(message)s')\n",
    "logger = logging.getLogger(__name__)    "
   ]
  },
  {
   "cell_type": "code",
   "execution_count": null,
   "metadata": {},
   "outputs": [],
   "source": [
    "\n",
    "def fetch_files_from_ftp(ftp_host, ftp_port, ftp_user, ftp_password, folders_to_download, download_path):\n",
    "    try:\n",
    "        with FTP() as ftp:\n",
    "            ftp.connect(ftp_host, ftp_port)\n",
    "            ftp.login(user=ftp_user, passwd=ftp_password)\n",
    "\n",
    "            if not os.path.exists(download_path):\n",
    "                os.makedirs(download_path)\n",
    "\n",
    "            for folder in folders_to_download:\n",
    "                ftp.cwd(folder)\n",
    "                file_list = ftp.nlst()\n",
    "                for file_name in file_list:\n",
    "                    local_file_path = os.path.join(download_path, file_name)\n",
    "                    with open(local_file_path, 'wb') as file:\n",
    "                        ftp.retrbinary('RETR ' + file_name, file.write)\n",
    "    except error_perm as e:\n",
    "        logger.error(f\"Permission error: {e}\")\n",
    "    except Exception as e:\n",
    "        logger.error(f\"An error occurred: {e}\", exc_info=True)\n",
    "\n",
    "# Load environment variables and fetch files from FTP\n",
    "load_dotenv()\n",
    "ftp_host = os.getenv('FTP_HOST')\n",
    "ftp_port = int(os.getenv('FTP_PORT'))\n",
    "ftp_user = os.getenv('FTP_USERNAME')\n",
    "ftp_password = os.getenv('FTP_PASSWORD')\n",
    "\n",
    "folders_to_download = [\n",
    "    \"euetrac1ftp/Up/A1 SUPERMARKET\",\n",
    "    \"euetrac1ftp/Up/Platinum\",\n",
    "    \"euetrac1ftp/Up/Premjee\"\n",
    "]\n",
    "\n",
    "directory = r'R:\\RawData\\Elite Star\\React Stores\\Client Download Folders'\n",
    "fetch_files_from_ftp(ftp_host, ftp_port, ftp_user, ftp_password, folders_to_download, directory)\n"
   ]
  },
  {
   "cell_type": "code",
   "execution_count": 33,
   "metadata": {
    "notebookRunGroups": {
     "groupValue": ""
    }
   },
   "outputs": [],
   "source": [
    "def delete_all_except_recent(directory):\n",
    "    files = []\n",
    "    for root, dirs, filenames in os.walk(directory):\n",
    "        for filename in filenames:\n",
    "            files.append(os.path.join(root, filename))\n",
    "\n",
    "    files.sort(key=os.path.getmtime, reverse=True)\n",
    "\n",
    "    most_recent_files = {}\n",
    "    deleted_files = []\n",
    "    kept_files = []\n",
    "\n",
    "    for file in files:\n",
    "        directory = os.path.dirname(file)\n",
    "\n",
    "        if len(glob.glob(os.path.join(directory, \"*\"))) == 1:\n",
    "            kept_files.append(os.path.basename(file))\n",
    "            continue\n",
    "\n",
    "        if directory not in most_recent_files:\n",
    "            most_recent_files[directory] = file\n",
    "            kept_files.append(os.path.basename(file))\n",
    "        else:\n",
    "            if os.path.getmtime(file) < os.path.getmtime(most_recent_files[directory]):\n",
    "                deleted_files.append(os.path.basename(file))\n",
    "                os.remove(file)\n",
    "            else:\n",
    "                os.remove(most_recent_files[directory])\n",
    "                deleted_files.append(os.path.basename(most_recent_files[directory]))\n",
    "                most_recent_files[directory] = file\n",
    "                kept_files.append(os.path.basename(file))\n",
    "\n",
    "    # Keep the most recent file in each directory\n",
    "    for directory, most_recent_file in most_recent_files.items():\n",
    "        files_in_directory = glob.glob(os.path.join(directory, \"*\"))\n",
    "        for file in files_in_directory:\n",
    "            if file != most_recent_file:\n",
    "                os.remove(file)\n",
    "                deleted_files.append(os.path.basename(file))\n",
    "            else:\n",
    "                kept_files.append(os.path.basename(file))\n",
    "\n",
    "    # Create a DataFrame of the deleted files\n",
    "    df_deleted = pd.DataFrame(deleted_files, columns=[\"Deleted Files\"])\n",
    "    df_deleted[\"Deleted Files\"] = df_deleted[\"Deleted Files\"].apply(lambda x: os.path.basename(x))\n",
    "    df_deleted = df_deleted.sort_values(by=[\"Deleted Files\"])\n",
    "\n",
    "    # Create a DataFrame of the kept files with only the last two elements in the file path\n",
    "    df_kept = pd.DataFrame(kept_files, columns=[\"Kept Files\"])\n",
    "    df_kept[\"Kept Files\"] = df_kept[\"Kept Files\"].apply(lambda x: os.path.join(*os.path.split(x)[-2:]))\n",
    "    df_kept = df_kept.drop_duplicates()\n",
    "    \n",
    "    return df_deleted, df_kept"
   ]
  },
  {
   "cell_type": "code",
   "execution_count": 34,
   "metadata": {},
   "outputs": [
    {
     "data": {
      "text/plain": [
       "(Empty DataFrame\n",
       " Columns: [Deleted Files]\n",
       " Index: [],\n",
       " Empty DataFrame\n",
       " Columns: [Kept Files]\n",
       " Index: [])"
      ]
     },
     "execution_count": 34,
     "metadata": {},
     "output_type": "execute_result"
    }
   ],
   "source": [
    "delete_all_except_recent(directory)"
   ]
  },
  {
   "cell_type": "code",
   "execution_count": 35,
   "metadata": {},
   "outputs": [
    {
     "data": {
      "text/plain": [
       "0"
      ]
     },
     "execution_count": 35,
     "metadata": {},
     "output_type": "execute_result"
    }
   ],
   "source": [
    "_, dataframe_remainders = delete_all_except_recent(directory)\n",
    "len(dataframe_remainders)"
   ]
  }
 ],
 "metadata": {
  "kernelspec": {
   "display_name": "base",
   "language": "python",
   "name": "python3"
  },
  "language_info": {
   "codemirror_mode": {
    "name": "ipython",
    "version": 3
   },
   "file_extension": ".py",
   "mimetype": "text/x-python",
   "name": "python",
   "nbconvert_exporter": "python",
   "pygments_lexer": "ipython3",
   "version": "3.10.9"
  },
  "orig_nbformat": 4
 },
 "nbformat": 4,
 "nbformat_minor": 2
}
