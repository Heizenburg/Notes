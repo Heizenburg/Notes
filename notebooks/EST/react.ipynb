{
 "cells": [
  {
   "cell_type": "markdown",
   "metadata": {},
   "source": [
    "## React\n",
    "\n",
    "Downloads files associated with the data source and deletes all files except the most recent according to the DM. "
   ]
  },
  {
   "cell_type": "code",
   "execution_count": 55,
   "metadata": {},
   "outputs": [],
   "source": [
    "import logging\n",
    "import os\n",
    "import pandas as pd\n",
    "import glob\n",
    "\n",
    "from dotenv import load_dotenv\n",
    "from ftplib import FTP, error_perm"
   ]
  },
  {
   "cell_type": "code",
   "execution_count": 56,
   "metadata": {},
   "outputs": [],
   "source": [
    "# Configure the logger\n",
    "logging.basicConfig(level=logging.ERROR, format='%(asctime)s - %(levelname)s - %(message)s')\n",
    "logger = logging.getLogger(__name__)    "
   ]
  },
  {
   "cell_type": "code",
   "execution_count": 57,
   "metadata": {},
   "outputs": [],
   "source": [
    "\n",
    "def fetch_files_from_ftp(ftp_host, ftp_port, ftp_user, ftp_password, folders_to_download, download_path):\n",
    "    try:\n",
    "        with FTP() as ftp:\n",
    "            ftp.connect(ftp_host, ftp_port)\n",
    "            ftp.login(user=ftp_user, passwd=ftp_password)\n",
    "\n",
    "            if not os.path.exists(download_path):\n",
    "                os.makedirs(download_path)\n",
    "\n",
    "            for folder in folders_to_download:\n",
    "                ftp.cwd(folder)\n",
    "                file_list = ftp.nlst()\n",
    "                for file_name in file_list:\n",
    "                    local_file_path = os.path.join(download_path, file_name)\n",
    "                    with open(local_file_path, 'wb') as file:\n",
    "                        ftp.retrbinary('RETR ' + file_name, file.write)\n",
    "    except error_perm as e:\n",
    "        logger.error(f\"Permission error: {e}\")\n",
    "    except Exception as e:\n",
    "        logger.error(f\"An error occurred: {e}\", exc_info=True)"
   ]
  },
  {
   "cell_type": "code",
   "execution_count": 58,
   "metadata": {},
   "outputs": [],
   "source": [
    "# Load environment variables and fetch files from FTP\n",
    "load_dotenv()\n",
    "ftp_host = os.getenv('FTP_HOST')\n",
    "ftp_port = int(os.getenv('FTP_PORT'))\n",
    "ftp_user = os.getenv('FTP_USERNAME')\n",
    "ftp_password = os.getenv('FTP_PASSWORD')\n",
    "\n",
    "folders_to_download = [\n",
    "    \"euetrac1ftp/Up/A1 SUPERMARKET\",\n",
    "    \"euetrac1ftp/Up/Platinum\",\n",
    "    \"euetrac1ftp/Up/Premjee\"\n",
    "]\n",
    "\n",
    "directory = r'R:\\RawData\\Elite Star\\React Stores\\Client Download Folders'"
   ]
  },
  {
   "cell_type": "code",
   "execution_count": 59,
   "metadata": {},
   "outputs": [],
   "source": [
    "def create_file_dataframe(file_list, column_name, format_function):\n",
    "    df = pd.DataFrame(file_list, columns=[column_name])\n",
    "    df[column_name] = df[column_name].apply(format_function)\n",
    "    df = df.sort_values(by=[column_name])\n",
    "    df.reset_index(drop=True, inplace=True)\n",
    "    df.index += 1\n",
    "    return df"
   ]
  },
  {
   "cell_type": "code",
   "execution_count": 60,
   "metadata": {
    "notebookRunGroups": {
     "groupValue": ""
    }
   },
   "outputs": [],
   "source": [
    "def remove_all_except_recent_files(directory):\n",
    "    files = []\n",
    "    for root, dirs, filenames in os.walk(directory):\n",
    "        for filename in filenames:\n",
    "            files.append(os.path.join(root, filename))\n",
    "\n",
    "    files.sort(key=os.path.getmtime, reverse=True)\n",
    "\n",
    "    most_recent_files = {}\n",
    "    deleted_files = []\n",
    "    kept_files = []\n",
    "\n",
    "    for file in files:\n",
    "        directory = os.path.dirname(file)\n",
    "\n",
    "        if len(glob.glob(os.path.join(directory, \"*\"))) == 1:\n",
    "            kept_files.append(os.path.basename(file))\n",
    "            continue\n",
    "\n",
    "        if directory not in most_recent_files:\n",
    "            most_recent_files[directory] = file\n",
    "            kept_files.append(os.path.basename(file))\n",
    "        else:\n",
    "            if os.path.getmtime(file) < os.path.getmtime(most_recent_files[directory]):\n",
    "                deleted_files.append(os.path.basename(file))\n",
    "                os.remove(file)\n",
    "            else:\n",
    "                os.remove(most_recent_files[directory])\n",
    "                deleted_files.append(os.path.basename(most_recent_files[directory]))\n",
    "                most_recent_files[directory] = file\n",
    "                kept_files.append(os.path.basename(file))\n",
    "\n",
    "    # Keep the most recent file in each directory\n",
    "    for directory, most_recent_file in most_recent_files.items():\n",
    "        files_in_directory = glob.glob(os.path.join(directory, \"*\"))\n",
    "        for file in files_in_directory:\n",
    "            if file != most_recent_file:\n",
    "                os.remove(file)\n",
    "                deleted_files.append(os.path.basename(file))\n",
    "            else:\n",
    "                kept_files.append(os.path.basename(file))\n",
    "\n",
    "    df_deleted = create_file_dataframe(deleted_files, \"Deleted Files\", lambda x: os.path.basename(x))\n",
    "    \n",
    "    # Create a DataFrame of the kept files.\n",
    "    df_kept = create_file_dataframe(kept_files, \"Kept Files\", lambda x: os.path.join(*os.path.split(x)[-2:]))\n",
    "    \n",
    "    # Merge the two DataFrames side by side, ignoring NaN values\n",
    "    result = df_deleted.merge(df_kept, how='outer', left_index=True, right_index=True)\n",
    "\n",
    "    return result"
   ]
  },
  {
   "cell_type": "code",
   "execution_count": 61,
   "metadata": {},
   "outputs": [
    {
     "data": {
      "text/html": [
       "<div>\n",
       "<style scoped>\n",
       "    .dataframe tbody tr th:only-of-type {\n",
       "        vertical-align: middle;\n",
       "    }\n",
       "\n",
       "    .dataframe tbody tr th {\n",
       "        vertical-align: top;\n",
       "    }\n",
       "\n",
       "    .dataframe thead th {\n",
       "        text-align: right;\n",
       "    }\n",
       "</style>\n",
       "<table border=\"1\" class=\"dataframe\">\n",
       "  <thead>\n",
       "    <tr style=\"text-align: right;\">\n",
       "      <th></th>\n",
       "      <th>Deleted Files</th>\n",
       "      <th>Kept Files</th>\n",
       "    </tr>\n",
       "  </thead>\n",
       "  <tbody>\n",
       "  </tbody>\n",
       "</table>\n",
       "</div>"
      ],
      "text/plain": [
       "Empty DataFrame\n",
       "Columns: [Deleted Files, Kept Files]\n",
       "Index: []"
      ]
     },
     "execution_count": 61,
     "metadata": {},
     "output_type": "execute_result"
    }
   ],
   "source": [
    "remove_all_except_recent_files(directory)"
   ]
  }
 ],
 "metadata": {
  "kernelspec": {
   "display_name": "base",
   "language": "python",
   "name": "python3"
  },
  "language_info": {
   "codemirror_mode": {
    "name": "ipython",
    "version": 3
   },
   "file_extension": ".py",
   "mimetype": "text/x-python",
   "name": "python",
   "nbconvert_exporter": "python",
   "pygments_lexer": "ipython3",
   "version": "3.10.9"
  },
  "orig_nbformat": 4
 },
 "nbformat": 4,
 "nbformat_minor": 2
}
